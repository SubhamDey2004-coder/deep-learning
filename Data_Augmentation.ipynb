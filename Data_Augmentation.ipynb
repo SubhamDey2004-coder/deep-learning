{
  "nbformat": 4,
  "nbformat_minor": 0,
  "metadata": {
    "colab": {
      "provenance": [],
      "authorship_tag": "ABX9TyMx22qWg1dyfpDU1qcPyehF",
      "include_colab_link": true
    },
    "kernelspec": {
      "name": "python3",
      "display_name": "Python 3"
    },
    "language_info": {
      "name": "python"
    }
  },
  "cells": [
    {
      "cell_type": "markdown",
      "metadata": {
        "id": "view-in-github",
        "colab_type": "text"
      },
      "source": [
        "<a href=\"https://colab.research.google.com/github/SubhamDey2004-coder/deep-learning/blob/main/Data_Augmentation.ipynb\" target=\"_parent\"><img src=\"https://colab.research.google.com/assets/colab-badge.svg\" alt=\"Open In Colab\"/></a>"
      ]
    },
    {
      "cell_type": "code",
      "execution_count": null,
      "metadata": {
        "id": "PUngbcab3KTi"
      },
      "outputs": [],
      "source": [
        "import numpy as np\n",
        "from tensorflow.keras.preprocessing.image import ImageDataGenerator, img_to_array, load_img\n",
        "import matplotlib.pyplot as plt"
      ]
    },
    {
      "cell_type": "code",
      "source": [
        "img = load_img(\"/content/sample_cat.jpg\")\n",
        "\n",
        "img_array = img_to_array(img)\n",
        "\n",
        "img_array = np.expand_dims(img_array, axis=0)\n",
        "\n",
        "# img_array = np.expand_dims(img_array, axis=0) # Removed the extra dimension"
      ],
      "metadata": {
        "id": "0dv-aD0s3z_M"
      },
      "execution_count": 5,
      "outputs": []
    },
    {
      "cell_type": "code",
      "source": [
        "datagen = ImageDataGenerator(\n",
        "    rotation_range=40,        # rotate up to 40°\n",
        "    width_shift_range=0.2,    # shift horizontally\n",
        "    height_shift_range=0.2,   # shift vertically\n",
        "    shear_range=0.2,          # shear\n",
        "    zoom_range=0.2,           # zoom\n",
        "    horizontal_flip=True,     # horizontal flip\n",
        "    fill_mode='nearest'       # filling strategy for new pixels\n",
        ")\n"
      ],
      "metadata": {
        "id": "BNXVxyKF5D1k"
      },
      "execution_count": null,
      "outputs": []
    },
    {
      "cell_type": "code",
      "metadata": {
        "id": "794cc164"
      },
      "source": [
        "import os\n",
        "\n",
        "# Create the directory to save augmented images if it doesn't exist\n",
        "if not os.path.exists('Data_Augmentation'):\n",
        "    os.makedirs('Data_Augmentation')"
      ],
      "execution_count": 11,
      "outputs": []
    },
    {
      "cell_type": "code",
      "source": [
        "# Generate augmented images and save them\n",
        "i = 0\n",
        "for batch in datagen.flow(img_array, batch_size=1, save_to_dir='Data_Augmentation', save_prefix='aug', save_format='jpg'):\n",
        "    i += 1\n",
        "    if i > 20:    # Generate 20 augmented images\n",
        "        break"
      ],
      "metadata": {
        "id": "kRoX2OV75O80"
      },
      "execution_count": 12,
      "outputs": []
    }
  ]
}