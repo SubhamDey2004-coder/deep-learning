{
  "nbformat": 4,
  "nbformat_minor": 0,
  "metadata": {
    "colab": {
      "provenance": [],
      "include_colab_link": true
    },
    "kernelspec": {
      "name": "python3",
      "display_name": "Python 3"
    },
    "language_info": {
      "name": "python"
    }
  },
  "cells": [
    {
      "cell_type": "markdown",
      "metadata": {
        "id": "view-in-github",
        "colab_type": "text"
      },
      "source": [
        "<a href=\"https://colab.research.google.com/github/SubhamDey2004-coder/deep-learning/blob/main/feature_scaling.ipynb\" target=\"_parent\"><img src=\"https://colab.research.google.com/assets/colab-badge.svg\" alt=\"Open In Colab\"/></a>"
      ]
    },
    {
      "cell_type": "code",
      "execution_count": 2,
      "metadata": {
        "id": "hScZJyw76MPF"
      },
      "outputs": [],
      "source": [
        "import numpy as np\n",
        "import pandas as pd"
      ]
    },
    {
      "cell_type": "code",
      "source": [
        "import kagglehub\n",
        "\n",
        "# Download latest version\n",
        "path = kagglehub.dataset_download(\"shub99/social-network-ads\")\n",
        "\n",
        "print(\"Path to dataset files:\", path)"
      ],
      "metadata": {
        "id": "2g5eBIhGRV1K",
        "outputId": "60b92dd0-61a6-4e3b-e6c7-1cce2012e0e5",
        "colab": {
          "base_uri": "https://localhost:8080/"
        }
      },
      "execution_count": 4,
      "outputs": [
        {
          "output_type": "stream",
          "name": "stdout",
          "text": [
            "Downloading from https://www.kaggle.com/api/v1/datasets/download/shub99/social-network-ads?dataset_version_number=1...\n"
          ]
        },
        {
          "output_type": "stream",
          "name": "stderr",
          "text": [
            "100%|██████████| 1.46k/1.46k [00:00<00:00, 1.73MB/s]"
          ]
        },
        {
          "output_type": "stream",
          "name": "stdout",
          "text": [
            "Extracting files...\n",
            "Path to dataset files: /root/.cache/kagglehub/datasets/shub99/social-network-ads/versions/1\n"
          ]
        },
        {
          "output_type": "stream",
          "name": "stderr",
          "text": [
            "\n"
          ]
        }
      ]
    },
    {
      "cell_type": "code",
      "source": [
        "df = pd.read_csv('/root/.cache/kagglehub/datasets/shub99/social-network-ads/versions/1/Social_Network_Ads.csv')\n"
      ],
      "metadata": {
        "id": "FsS0g0hH61Lk"
      },
      "execution_count": 12,
      "outputs": []
    },
    {
      "cell_type": "code",
      "source": [
        "# df = df.iloc[:,2:]\n",
        "# df.head()"
      ],
      "metadata": {
        "colab": {
          "base_uri": "https://localhost:8080/",
          "height": 206
        },
        "id": "jMpQva9366fP",
        "outputId": "a3818d6c-73da-4bd6-806f-36a7d6ee096f"
      },
      "execution_count": 8,
      "outputs": [
        {
          "output_type": "execute_result",
          "data": {
            "text/plain": [
              "   Purchased\n",
              "0          0\n",
              "1          0\n",
              "2          0\n",
              "3          0\n",
              "4          0"
            ],
            "text/html": [
              "\n",
              "  <div id=\"df-58991080-000c-4132-a9b5-005860c0be59\" class=\"colab-df-container\">\n",
              "    <div>\n",
              "<style scoped>\n",
              "    .dataframe tbody tr th:only-of-type {\n",
              "        vertical-align: middle;\n",
              "    }\n",
              "\n",
              "    .dataframe tbody tr th {\n",
              "        vertical-align: top;\n",
              "    }\n",
              "\n",
              "    .dataframe thead th {\n",
              "        text-align: right;\n",
              "    }\n",
              "</style>\n",
              "<table border=\"1\" class=\"dataframe\">\n",
              "  <thead>\n",
              "    <tr style=\"text-align: right;\">\n",
              "      <th></th>\n",
              "      <th>Purchased</th>\n",
              "    </tr>\n",
              "  </thead>\n",
              "  <tbody>\n",
              "    <tr>\n",
              "      <th>0</th>\n",
              "      <td>0</td>\n",
              "    </tr>\n",
              "    <tr>\n",
              "      <th>1</th>\n",
              "      <td>0</td>\n",
              "    </tr>\n",
              "    <tr>\n",
              "      <th>2</th>\n",
              "      <td>0</td>\n",
              "    </tr>\n",
              "    <tr>\n",
              "      <th>3</th>\n",
              "      <td>0</td>\n",
              "    </tr>\n",
              "    <tr>\n",
              "      <th>4</th>\n",
              "      <td>0</td>\n",
              "    </tr>\n",
              "  </tbody>\n",
              "</table>\n",
              "</div>\n",
              "    <div class=\"colab-df-buttons\">\n",
              "\n",
              "  <div class=\"colab-df-container\">\n",
              "    <button class=\"colab-df-convert\" onclick=\"convertToInteractive('df-58991080-000c-4132-a9b5-005860c0be59')\"\n",
              "            title=\"Convert this dataframe to an interactive table.\"\n",
              "            style=\"display:none;\">\n",
              "\n",
              "  <svg xmlns=\"http://www.w3.org/2000/svg\" height=\"24px\" viewBox=\"0 -960 960 960\">\n",
              "    <path d=\"M120-120v-720h720v720H120Zm60-500h600v-160H180v160Zm220 220h160v-160H400v160Zm0 220h160v-160H400v160ZM180-400h160v-160H180v160Zm440 0h160v-160H620v160ZM180-180h160v-160H180v160Zm440 0h160v-160H620v160Z\"/>\n",
              "  </svg>\n",
              "    </button>\n",
              "\n",
              "  <style>\n",
              "    .colab-df-container {\n",
              "      display:flex;\n",
              "      gap: 12px;\n",
              "    }\n",
              "\n",
              "    .colab-df-convert {\n",
              "      background-color: #E8F0FE;\n",
              "      border: none;\n",
              "      border-radius: 50%;\n",
              "      cursor: pointer;\n",
              "      display: none;\n",
              "      fill: #1967D2;\n",
              "      height: 32px;\n",
              "      padding: 0 0 0 0;\n",
              "      width: 32px;\n",
              "    }\n",
              "\n",
              "    .colab-df-convert:hover {\n",
              "      background-color: #E2EBFA;\n",
              "      box-shadow: 0px 1px 2px rgba(60, 64, 67, 0.3), 0px 1px 3px 1px rgba(60, 64, 67, 0.15);\n",
              "      fill: #174EA6;\n",
              "    }\n",
              "\n",
              "    .colab-df-buttons div {\n",
              "      margin-bottom: 4px;\n",
              "    }\n",
              "\n",
              "    [theme=dark] .colab-df-convert {\n",
              "      background-color: #3B4455;\n",
              "      fill: #D2E3FC;\n",
              "    }\n",
              "\n",
              "    [theme=dark] .colab-df-convert:hover {\n",
              "      background-color: #434B5C;\n",
              "      box-shadow: 0px 1px 3px 1px rgba(0, 0, 0, 0.15);\n",
              "      filter: drop-shadow(0px 1px 2px rgba(0, 0, 0, 0.3));\n",
              "      fill: #FFFFFF;\n",
              "    }\n",
              "  </style>\n",
              "\n",
              "    <script>\n",
              "      const buttonEl =\n",
              "        document.querySelector('#df-58991080-000c-4132-a9b5-005860c0be59 button.colab-df-convert');\n",
              "      buttonEl.style.display =\n",
              "        google.colab.kernel.accessAllowed ? 'block' : 'none';\n",
              "\n",
              "      async function convertToInteractive(key) {\n",
              "        const element = document.querySelector('#df-58991080-000c-4132-a9b5-005860c0be59');\n",
              "        const dataTable =\n",
              "          await google.colab.kernel.invokeFunction('convertToInteractive',\n",
              "                                                    [key], {});\n",
              "        if (!dataTable) return;\n",
              "\n",
              "        const docLinkHtml = 'Like what you see? Visit the ' +\n",
              "          '<a target=\"_blank\" href=https://colab.research.google.com/notebooks/data_table.ipynb>data table notebook</a>'\n",
              "          + ' to learn more about interactive tables.';\n",
              "        element.innerHTML = '';\n",
              "        dataTable['output_type'] = 'display_data';\n",
              "        await google.colab.output.renderOutput(dataTable, element);\n",
              "        const docLink = document.createElement('div');\n",
              "        docLink.innerHTML = docLinkHtml;\n",
              "        element.appendChild(docLink);\n",
              "      }\n",
              "    </script>\n",
              "  </div>\n",
              "\n",
              "\n",
              "    <div id=\"df-630efec8-a6dc-4dcb-ba5e-22381a226d97\">\n",
              "      <button class=\"colab-df-quickchart\" onclick=\"quickchart('df-630efec8-a6dc-4dcb-ba5e-22381a226d97')\"\n",
              "                title=\"Suggest charts\"\n",
              "                style=\"display:none;\">\n",
              "\n",
              "<svg xmlns=\"http://www.w3.org/2000/svg\" height=\"24px\"viewBox=\"0 0 24 24\"\n",
              "     width=\"24px\">\n",
              "    <g>\n",
              "        <path d=\"M19 3H5c-1.1 0-2 .9-2 2v14c0 1.1.9 2 2 2h14c1.1 0 2-.9 2-2V5c0-1.1-.9-2-2-2zM9 17H7v-7h2v7zm4 0h-2V7h2v10zm4 0h-2v-4h2v4z\"/>\n",
              "    </g>\n",
              "</svg>\n",
              "      </button>\n",
              "\n",
              "<style>\n",
              "  .colab-df-quickchart {\n",
              "      --bg-color: #E8F0FE;\n",
              "      --fill-color: #1967D2;\n",
              "      --hover-bg-color: #E2EBFA;\n",
              "      --hover-fill-color: #174EA6;\n",
              "      --disabled-fill-color: #AAA;\n",
              "      --disabled-bg-color: #DDD;\n",
              "  }\n",
              "\n",
              "  [theme=dark] .colab-df-quickchart {\n",
              "      --bg-color: #3B4455;\n",
              "      --fill-color: #D2E3FC;\n",
              "      --hover-bg-color: #434B5C;\n",
              "      --hover-fill-color: #FFFFFF;\n",
              "      --disabled-bg-color: #3B4455;\n",
              "      --disabled-fill-color: #666;\n",
              "  }\n",
              "\n",
              "  .colab-df-quickchart {\n",
              "    background-color: var(--bg-color);\n",
              "    border: none;\n",
              "    border-radius: 50%;\n",
              "    cursor: pointer;\n",
              "    display: none;\n",
              "    fill: var(--fill-color);\n",
              "    height: 32px;\n",
              "    padding: 0;\n",
              "    width: 32px;\n",
              "  }\n",
              "\n",
              "  .colab-df-quickchart:hover {\n",
              "    background-color: var(--hover-bg-color);\n",
              "    box-shadow: 0 1px 2px rgba(60, 64, 67, 0.3), 0 1px 3px 1px rgba(60, 64, 67, 0.15);\n",
              "    fill: var(--button-hover-fill-color);\n",
              "  }\n",
              "\n",
              "  .colab-df-quickchart-complete:disabled,\n",
              "  .colab-df-quickchart-complete:disabled:hover {\n",
              "    background-color: var(--disabled-bg-color);\n",
              "    fill: var(--disabled-fill-color);\n",
              "    box-shadow: none;\n",
              "  }\n",
              "\n",
              "  .colab-df-spinner {\n",
              "    border: 2px solid var(--fill-color);\n",
              "    border-color: transparent;\n",
              "    border-bottom-color: var(--fill-color);\n",
              "    animation:\n",
              "      spin 1s steps(1) infinite;\n",
              "  }\n",
              "\n",
              "  @keyframes spin {\n",
              "    0% {\n",
              "      border-color: transparent;\n",
              "      border-bottom-color: var(--fill-color);\n",
              "      border-left-color: var(--fill-color);\n",
              "    }\n",
              "    20% {\n",
              "      border-color: transparent;\n",
              "      border-left-color: var(--fill-color);\n",
              "      border-top-color: var(--fill-color);\n",
              "    }\n",
              "    30% {\n",
              "      border-color: transparent;\n",
              "      border-left-color: var(--fill-color);\n",
              "      border-top-color: var(--fill-color);\n",
              "      border-right-color: var(--fill-color);\n",
              "    }\n",
              "    40% {\n",
              "      border-color: transparent;\n",
              "      border-right-color: var(--fill-color);\n",
              "      border-top-color: var(--fill-color);\n",
              "    }\n",
              "    60% {\n",
              "      border-color: transparent;\n",
              "      border-right-color: var(--fill-color);\n",
              "    }\n",
              "    80% {\n",
              "      border-color: transparent;\n",
              "      border-right-color: var(--fill-color);\n",
              "      border-bottom-color: var(--fill-color);\n",
              "    }\n",
              "    90% {\n",
              "      border-color: transparent;\n",
              "      border-bottom-color: var(--fill-color);\n",
              "    }\n",
              "  }\n",
              "</style>\n",
              "\n",
              "      <script>\n",
              "        async function quickchart(key) {\n",
              "          const quickchartButtonEl =\n",
              "            document.querySelector('#' + key + ' button');\n",
              "          quickchartButtonEl.disabled = true;  // To prevent multiple clicks.\n",
              "          quickchartButtonEl.classList.add('colab-df-spinner');\n",
              "          try {\n",
              "            const charts = await google.colab.kernel.invokeFunction(\n",
              "                'suggestCharts', [key], {});\n",
              "          } catch (error) {\n",
              "            console.error('Error during call to suggestCharts:', error);\n",
              "          }\n",
              "          quickchartButtonEl.classList.remove('colab-df-spinner');\n",
              "          quickchartButtonEl.classList.add('colab-df-quickchart-complete');\n",
              "        }\n",
              "        (() => {\n",
              "          let quickchartButtonEl =\n",
              "            document.querySelector('#df-630efec8-a6dc-4dcb-ba5e-22381a226d97 button');\n",
              "          quickchartButtonEl.style.display =\n",
              "            google.colab.kernel.accessAllowed ? 'block' : 'none';\n",
              "        })();\n",
              "      </script>\n",
              "    </div>\n",
              "\n",
              "    </div>\n",
              "  </div>\n"
            ],
            "application/vnd.google.colaboratory.intrinsic+json": {
              "type": "dataframe",
              "variable_name": "df",
              "summary": "{\n  \"name\": \"df\",\n  \"rows\": 400,\n  \"fields\": [\n    {\n      \"column\": \"Purchased\",\n      \"properties\": {\n        \"dtype\": \"number\",\n        \"std\": 0,\n        \"min\": 0,\n        \"max\": 1,\n        \"num_unique_values\": 2,\n        \"samples\": [\n          1,\n          0\n        ],\n        \"semantic_type\": \"\",\n        \"description\": \"\"\n      }\n    }\n  ]\n}"
            }
          },
          "metadata": {},
          "execution_count": 8
        }
      ]
    },
    {
      "cell_type": "code",
      "source": [
        "import seaborn as sns"
      ],
      "metadata": {
        "id": "ohok4R2Y69um"
      },
      "execution_count": 9,
      "outputs": []
    },
    {
      "cell_type": "code",
      "source": [
        "sns.scatterplot(x=df.iloc[:,0],y=df.iloc[:,1])"
      ],
      "metadata": {
        "colab": {
          "base_uri": "https://localhost:8080/",
          "height": 466
        },
        "id": "ZnBaOdwl7U2y",
        "outputId": "e1cdbe24-60e1-4c9a-f45a-6250b302fe88"
      },
      "execution_count": 13,
      "outputs": [
        {
          "output_type": "execute_result",
          "data": {
            "text/plain": [
              "<Axes: xlabel='Age', ylabel='EstimatedSalary'>"
            ]
          },
          "metadata": {},
          "execution_count": 13
        },
        {
          "output_type": "display_data",
          "data": {
            "text/plain": [
              "<Figure size 640x480 with 1 Axes>"
            ],
            "image/png": "[encoded data removed]"
          },
          "metadata": {}
        }
      ]
    },
    {
      "cell_type": "code",
      "source": [
        "X = df.iloc[:,0:2]\n",
        "y = df.iloc[:,-1]"
      ],
      "metadata": {
        "id": "z6bzi-427cKi"
      },
      "execution_count": 14,
      "outputs": []
    },
    {
      "cell_type": "code",
      "source": [
        "from sklearn.model_selection import train_test_split\n",
        "X_train,X_test,y_train,y_test = train_test_split(X,y,test_size=0.2,random_state=2)"
      ],
      "metadata": {
        "id": "YSPIQzY97i_C"
      },
      "execution_count": 15,
      "outputs": []
    },
    {
      "cell_type": "code",
      "source": [
        "import tensorflow as tf\n",
        "from tensorflow import keras\n",
        "from keras import Sequential\n",
        "from keras.layers import Dense"
      ],
      "metadata": {
        "id": "Y32nU_KD7udn"
      },
      "execution_count": 16,
      "outputs": []
    },
    {
      "cell_type": "code",
      "source": [
        "model = Sequential()\n",
        "\n",
        "model.add(Dense(128,activation='relu',input_dim=2))\n",
        "model.add(Dense(1,activation='sigmoid'))"
      ],
      "metadata": {
        "id": "KdFmkN8h745Y",
        "outputId": "47496b76-a7db-4aa7-f1f4-09c4e59913d4",
        "colab": {
          "base_uri": "https://localhost:8080/"
        }
      },
      "execution_count": 17,
      "outputs": [
        {
          "output_type": "stream",
          "name": "stderr",
          "text": [
            "/usr/local/lib/python3.11/dist-packages/keras/src/layers/core/dense.py:87: UserWarning: Do not pass an `input_shape`/`input_dim` argument to a layer. When using Sequential models, prefer using an `Input(shape)` object as the first layer in the model instead.\n",
            "  super().__init__(activity_regularizer=activity_regularizer, **kwargs)\n"
          ]
        }
      ]
    },
    {
      "cell_type": "code",
      "source": [
        "model.summary()"
      ],
      "metadata": {
        "colab": {
          "base_uri": "https://localhost:8080/",
          "height": 193
        },
        "id": "F6xRTNvI9GMq",
        "outputId": "b01a07e3-9a4b-45a9-bfb3-7c8de304a487"
      },
      "execution_count": 18,
      "outputs": [
        {
          "output_type": "display_data",
          "data": {
            "text/plain": [
              "\u001b[1mModel: \"sequential\"\u001b[0m\n"
            ],
            "text/html": [
              "<pre style=\"white-space:pre;overflow-x:auto;line-height:normal;font-family:Menlo,'DejaVu Sans Mono',consolas,'Courier New',monospace\"><span style=\"font-weight: bold\">Model: \"sequential\"</span>\n",
              "</pre>\n"
            ]
          },
          "metadata": {}
        },
        {
          "output_type": "display_data",
          "data": {
            "text/plain": [
              "┏━━━━━━━━━━━━━━━━━━━━━━━━━━━━━━━━━┳━━━━━━━━━━━━━━━━━━━━━━━━┳━━━━━━━━━━━━━━━┓\n",
              "┃\u001b[1m \u001b[0m\u001b[1mLayer (type)                   \u001b[0m\u001b[1m \u001b[0m┃\u001b[1m \u001b[0m\u001b[1mOutput Shape          \u001b[0m\u001b[1m \u001b[0m┃\u001b[1m \u001b[0m\u001b[1m      Param #\u001b[0m\u001b[1m \u001b[0m┃\n",
              "┡━━━━━━━━━━━━━━━━━━━━━━━━━━━━━━━━━╇━━━━━━━━━━━━━━━━━━━━━━━━╇━━━━━━━━━━━━━━━┩\n",
              "│ dense (\u001b[38;5;33mDense\u001b[0m)                   │ (\u001b[38;5;45mNone\u001b[0m, \u001b[38;5;34m128\u001b[0m)            │           \u001b[38;5;34m384\u001b[0m │\n",
              "├─────────────────────────────────┼────────────────────────┼───────────────┤\n",
              "│ dense_1 (\u001b[38;5;33mDense\u001b[0m)                 │ (\u001b[38;5;45mNone\u001b[0m, \u001b[38;5;34m1\u001b[0m)              │           \u001b[38;5;34m129\u001b[0m │\n",
              "└─────────────────────────────────┴────────────────────────┴───────────────┘\n"
            ],
            "text/html": [
              "<pre style=\"white-space:pre;overflow-x:auto;line-height:normal;font-family:Menlo,'DejaVu Sans Mono',consolas,'Courier New',monospace\">┏━━━━━━━━━━━━━━━━━━━━━━━━━━━━━━━━━┳━━━━━━━━━━━━━━━━━━━━━━━━┳━━━━━━━━━━━━━━━┓\n",
              "┃<span style=\"font-weight: bold\"> Layer (type)                    </span>┃<span style=\"font-weight: bold\"> Output Shape           </span>┃<span style=\"font-weight: bold\">       Param # </span>┃\n",
              "┡━━━━━━━━━━━━━━━━━━━━━━━━━━━━━━━━━╇━━━━━━━━━━━━━━━━━━━━━━━━╇━━━━━━━━━━━━━━━┩\n",
              "│ dense (<span style=\"color: #0087ff; text-decoration-color: #0087ff\">Dense</span>)                   │ (<span style=\"color: #00d7ff; text-decoration-color: #00d7ff\">None</span>, <span style=\"color: #00af00; text-decoration-color: #00af00\">128</span>)            │           <span style=\"color: #00af00; text-decoration-color: #00af00\">384</span> │\n",
              "├─────────────────────────────────┼────────────────────────┼───────────────┤\n",
              "│ dense_1 (<span style=\"color: #0087ff; text-decoration-color: #0087ff\">Dense</span>)                 │ (<span style=\"color: #00d7ff; text-decoration-color: #00d7ff\">None</span>, <span style=\"color: #00af00; text-decoration-color: #00af00\">1</span>)              │           <span style=\"color: #00af00; text-decoration-color: #00af00\">129</span> │\n",
              "└─────────────────────────────────┴────────────────────────┴───────────────┘\n",
              "</pre>\n"
            ]
          },
          "metadata": {}
        },
        {
          "output_type": "display_data",
          "data": {
            "text/plain": [
              "\u001b[1m Total params: \u001b[0m\u001b[38;5;34m513\u001b[0m (2.00 KB)\n"
            ],
            "text/html": [
              "<pre style=\"white-space:pre;overflow-x:auto;line-height:normal;font-family:Menlo,'DejaVu Sans Mono',consolas,'Courier New',monospace\"><span style=\"font-weight: bold\"> Total params: </span><span style=\"color: #00af00; text-decoration-color: #00af00\">513</span> (2.00 KB)\n",
              "</pre>\n"
            ]
          },
          "metadata": {}
        },
        {
          "output_type": "display_data",
          "data": {
            "text/plain": [
              "\u001b[1m Trainable params: \u001b[0m\u001b[38;5;34m513\u001b[0m (2.00 KB)\n"
            ],
            "text/html": [
              "<pre style=\"white-space:pre;overflow-x:auto;line-height:normal;font-family:Menlo,'DejaVu Sans Mono',consolas,'Courier New',monospace\"><span style=\"font-weight: bold\"> Trainable params: </span><span style=\"color: #00af00; text-decoration-color: #00af00\">513</span> (2.00 KB)\n",
              "</pre>\n"
            ]
          },
          "metadata": {}
        },
        {
          "output_type": "display_data",
          "data": {
            "text/plain": [
              "\u001b[1m Non-trainable params: \u001b[0m\u001b[38;5;34m0\u001b[0m (0.00 B)\n"
            ],
            "text/html": [
              "<pre style=\"white-space:pre;overflow-x:auto;line-height:normal;font-family:Menlo,'DejaVu Sans Mono',consolas,'Courier New',monospace\"><span style=\"font-weight: bold\"> Non-trainable params: </span><span style=\"color: #00af00; text-decoration-color: #00af00\">0</span> (0.00 B)\n",
              "</pre>\n"
            ]
          },
          "metadata": {}
        }
      ]
    },
    {
      "cell_type": "code",
      "source": [
        "model.compile(optimizer='adam',loss='binary_crossentropy',metrics=['accuracy'])"
      ],
      "metadata": {
        "id": "uvLbTt9S_ByW"
      },
      "execution_count": 19,
      "outputs": []
    },
    {
      "cell_type": "code",
      "source": [
        "history = model.fit(X_train,y_train,validation_data=(X_test,y_test),epochs=100)"
      ],
      "metadata": {
        "colab": {
          "base_uri": "https://localhost:8080/"
        },
        "id": "ZaKyBN1B_LTa",
        "outputId": "19c34cdc-ce08-4384-ac9a-ad2985bd76c6"
      },
      "execution_count": 20,
      "outputs": [
        {
          "output_type": "stream",
          "name": "stdout",
          "text": [
            "Epoch 1/100\n",
            "\u001b[1m10/10\u001b[0m \u001b[32m━━━━━━━━━━━━━━━━━━━━\u001b[0m\u001b[37m\u001b[0m \u001b[1m2s\u001b[0m 48ms/step - accuracy: 0.6452 - loss: 2075.1772 - val_accuracy: 0.4000 - val_loss: 463.3449\n",
            "Epoch 2/100\n",
            "\u001b[1m10/10\u001b[0m \u001b[32m━━━━━━━━━━━━━━━━━━━━\u001b[0m\u001b[37m\u001b[0m \u001b[1m0s\u001b[0m 15ms/step - accuracy: 0.4408 - loss: 386.0584 - val_accuracy: 0.6000 - val_loss: 300.8508\n",
            "Epoch 3/100\n",
            "\u001b[1m10/10\u001b[0m \u001b[32m━━━━━━━━━━━━━━━━━━━━\u001b[0m\u001b[37m\u001b[0m \u001b[1m0s\u001b[0m 15ms/step - accuracy: 0.5939 - loss: 153.3262 - val_accuracy: 0.6000 - val_loss: 99.3721\n",
            "Epoch 4/100\n",
            "\u001b[1m10/10\u001b[0m \u001b[32m━━━━━━━━━━━━━━━━━━━━\u001b[0m\u001b[37m\u001b[0m \u001b[1m0s\u001b[0m 16ms/step - accuracy: 0.5539 - loss: 81.8460 - val_accuracy: 0.6000 - val_loss: 13.2659\n",
            "Epoch 5/100\n",
            "\u001b[1m10/10\u001b[0m \u001b[32m━━━━━━━━━━━━━━━━━━━━\u001b[0m\u001b[37m\u001b[0m \u001b[1m0s\u001b[0m 17ms/step - accuracy: 0.5239 - loss: 49.1650 - val_accuracy: 0.4000 - val_loss: 103.3355\n",
            "Epoch 6/100\n",
            "\u001b[1m10/10\u001b[0m \u001b[32m━━━━━━━━━━━━━━━━━━━━\u001b[0m\u001b[37m\u001b[0m \u001b[1m0s\u001b[0m 9ms/step - accuracy: 0.4567 - loss: 129.6626 - val_accuracy: 0.4000 - val_loss: 117.2154\n",
            "Epoch 7/100\n",
            "\u001b[1m10/10\u001b[0m \u001b[32m━━━━━━━━━━━━━━━━━━━━\u001b[0m\u001b[37m\u001b[0m \u001b[1m0s\u001b[0m 9ms/step - accuracy: 0.4465 - loss: 72.4325 - val_accuracy: 0.6000 - val_loss: 138.0397\n",
            "Epoch 8/100\n",
            "\u001b[1m10/10\u001b[0m \u001b[32m━━━━━━━━━━━━━━━━━━━━\u001b[0m\u001b[37m\u001b[0m \u001b[1m0s\u001b[0m 9ms/step - accuracy: 0.5643 - loss: 90.1368 - val_accuracy: 0.6000 - val_loss: 123.4923\n",
            "Epoch 9/100\n",
            "\u001b[1m10/10\u001b[0m \u001b[32m━━━━━━━━━━━━━━━━━━━━\u001b[0m\u001b[37m\u001b[0m \u001b[1m0s\u001b[0m 10ms/step - accuracy: 0.5441 - loss: 96.9766 - val_accuracy: 0.6000 - val_loss: 244.5113\n",
            "Epoch 10/100\n",
            "\u001b[1m10/10\u001b[0m \u001b[32m━━━━━━━━━━━━━━━━━━━━\u001b[0m\u001b[37m\u001b[0m \u001b[1m0s\u001b[0m 9ms/step - accuracy: 0.5614 - loss: 177.8169 - val_accuracy: 0.6000 - val_loss: 215.9188\n",
            "Epoch 11/100\n",
            "\u001b[1m10/10\u001b[0m \u001b[32m━━━━━━━━━━━━━━━━━━━━\u001b[0m\u001b[37m\u001b[0m \u001b[1m0s\u001b[0m 10ms/step - accuracy: 0.6120 - loss: 178.3577 - val_accuracy: 0.4000 - val_loss: 35.5867\n",
            "Epoch 12/100\n",
            "\u001b[1m10/10\u001b[0m \u001b[32m━━━━━━━━━━━━━━━━━━━━\u001b[0m\u001b[37m\u001b[0m \u001b[1m0s\u001b[0m 11ms/step - accuracy: 0.6038 - loss: 100.3355 - val_accuracy: 0.4000 - val_loss: 254.9106\n",
            "Epoch 13/100\n",
            "\u001b[1m10/10\u001b[0m \u001b[32m━━━━━━━━━━━━━━━━━━━━\u001b[0m\u001b[37m\u001b[0m \u001b[1m0s\u001b[0m 10ms/step - accuracy: 0.3887 - loss: 201.4856 - val_accuracy: 0.4000 - val_loss: 99.5062\n",
            "Epoch 14/100\n",
            "\u001b[1m10/10\u001b[0m \u001b[32m━━━━━━━━━━━━━━━━━━━━\u001b[0m\u001b[37m\u001b[0m \u001b[1m0s\u001b[0m 9ms/step - accuracy: 0.4847 - loss: 77.5728 - val_accuracy: 0.6000 - val_loss: 14.7721\n",
            "Epoch 15/100\n",
            "\u001b[1m10/10\u001b[0m \u001b[32m━━━━━━━━━━━━━━━━━━━━\u001b[0m\u001b[37m\u001b[0m \u001b[1m0s\u001b[0m 9ms/step - accuracy: 0.6241 - loss: 38.5402 - val_accuracy: 0.6000 - val_loss: 8.8571\n",
            "Epoch 16/100\n",
            "\u001b[1m10/10\u001b[0m \u001b[32m━━━━━━━━━━━━━━━━━━━━\u001b[0m\u001b[37m\u001b[0m \u001b[1m0s\u001b[0m 10ms/step - accuracy: 0.4812 - loss: 56.7006 - val_accuracy: 0.6000 - val_loss: 45.7745\n",
            "Epoch 17/100\n",
            "\u001b[1m10/10\u001b[0m \u001b[32m━━━━━━━━━━━━━━━━━━━━\u001b[0m\u001b[37m\u001b[0m \u001b[1m0s\u001b[0m 9ms/step - accuracy: 0.5231 - loss: 61.8594 - val_accuracy: 0.4000 - val_loss: 64.6856\n",
            "Epoch 18/100\n",
            "\u001b[1m10/10\u001b[0m \u001b[32m━━━━━━━━━━━━━━━━━━━━\u001b[0m\u001b[37m\u001b[0m \u001b[1m0s\u001b[0m 9ms/step - accuracy: 0.4531 - loss: 47.6495 - val_accuracy: 0.6000 - val_loss: 85.0645\n",
            "Epoch 19/100\n",
            "\u001b[1m10/10\u001b[0m \u001b[32m━━━━━━━━━━━━━━━━━━━━\u001b[0m\u001b[37m\u001b[0m \u001b[1m0s\u001b[0m 9ms/step - accuracy: 0.5853 - loss: 44.3315 - val_accuracy: 0.6000 - val_loss: 32.9807\n",
            "Epoch 20/100\n",
            "\u001b[1m10/10\u001b[0m \u001b[32m━━━━━━━━━━━━━━━━━━━━\u001b[0m\u001b[37m\u001b[0m \u001b[1m0s\u001b[0m 9ms/step - accuracy: 0.5840 - loss: 24.3467 - val_accuracy: 0.4000 - val_loss: 23.8459\n",
            "Epoch 21/100\n",
            "\u001b[1m10/10\u001b[0m \u001b[32m━━━━━━━━━━━━━━━━━━━━\u001b[0m\u001b[37m\u001b[0m \u001b[1m0s\u001b[0m 10ms/step - accuracy: 0.5496 - loss: 37.3914 - val_accuracy: 0.6000 - val_loss: 90.3561\n",
            "Epoch 22/100\n",
            "\u001b[1m10/10\u001b[0m \u001b[32m━━━━━━━━━━━━━━━━━━━━\u001b[0m\u001b[37m\u001b[0m \u001b[1m0s\u001b[0m 10ms/step - accuracy: 0.6039 - loss: 58.2460 - val_accuracy: 0.6000 - val_loss: 79.1257\n",
            "Epoch 23/100\n",
            "\u001b[1m10/10\u001b[0m \u001b[32m━━━━━━━━━━━━━━━━━━━━\u001b[0m\u001b[37m\u001b[0m \u001b[1m0s\u001b[0m 10ms/step - accuracy: 0.4583 - loss: 95.5631 - val_accuracy: 0.6000 - val_loss: 22.0215\n",
            "Epoch 24/100\n",
            "\u001b[1m10/10\u001b[0m \u001b[32m━━━━━━━━━━━━━━━━━━━━\u001b[0m\u001b[37m\u001b[0m \u001b[1m0s\u001b[0m 10ms/step - accuracy: 0.4873 - loss: 89.4565 - val_accuracy: 0.6000 - val_loss: 40.0205\n",
            "Epoch 25/100\n",
            "\u001b[1m10/10\u001b[0m \u001b[32m━━━━━━━━━━━━━━━━━━━━\u001b[0m\u001b[37m\u001b[0m \u001b[1m0s\u001b[0m 9ms/step - accuracy: 0.4402 - loss: 119.0842 - val_accuracy: 0.6000 - val_loss: 77.5381\n",
            "Epoch 26/100\n",
            "\u001b[1m10/10\u001b[0m \u001b[32m━━━━━━━━━━━━━━━━━━━━\u001b[0m\u001b[37m\u001b[0m \u001b[1m0s\u001b[0m 9ms/step - accuracy: 0.5415 - loss: 79.8188 - val_accuracy: 0.6000 - val_loss: 65.1041\n",
            "Epoch 27/100\n",
            "\u001b[1m10/10\u001b[0m \u001b[32m━━━━━━━━━━━━━━━━━━━━\u001b[0m\u001b[37m\u001b[0m \u001b[1m0s\u001b[0m 9ms/step - accuracy: 0.4959 - loss: 67.8366 - val_accuracy: 0.4000 - val_loss: 77.0269\n",
            "Epoch 28/100\n",
            "\u001b[1m10/10\u001b[0m \u001b[32m━━━━━━━━━━━━━━━━━━━━\u001b[0m\u001b[37m\u001b[0m \u001b[1m0s\u001b[0m 10ms/step - accuracy: 0.4902 - loss: 94.9304 - val_accuracy: 0.6000 - val_loss: 57.4984\n",
            "Epoch 29/100\n",
            "\u001b[1m10/10\u001b[0m \u001b[32m━━━━━━━━━━━━━━━━━━━━\u001b[0m\u001b[37m\u001b[0m \u001b[1m0s\u001b[0m 11ms/step - accuracy: 0.5187 - loss: 19.7340 - val_accuracy: 0.6000 - val_loss: 12.2189\n",
            "Epoch 30/100\n",
            "\u001b[1m10/10\u001b[0m \u001b[32m━━━━━━━━━━━━━━━━━━━━\u001b[0m\u001b[37m\u001b[0m \u001b[1m0s\u001b[0m 9ms/step - accuracy: 0.4786 - loss: 81.3282 - val_accuracy: 0.6000 - val_loss: 27.7204\n",
            "Epoch 31/100\n",
            "\u001b[1m10/10\u001b[0m \u001b[32m━━━━━━━━━━━━━━━━━━━━\u001b[0m\u001b[37m\u001b[0m \u001b[1m0s\u001b[0m 10ms/step - accuracy: 0.4522 - loss: 112.9957 - val_accuracy: 0.6000 - val_loss: 205.0358\n",
            "Epoch 32/100\n",
            "\u001b[1m10/10\u001b[0m \u001b[32m━━━━━━━━━━━━━━━━━━━━\u001b[0m\u001b[37m\u001b[0m \u001b[1m0s\u001b[0m 9ms/step - accuracy: 0.5750 - loss: 100.3559 - val_accuracy: 0.4000 - val_loss: 22.2850\n",
            "Epoch 33/100\n",
            "\u001b[1m10/10\u001b[0m \u001b[32m━━━━━━━━━━━━━━━━━━━━\u001b[0m\u001b[37m\u001b[0m \u001b[1m0s\u001b[0m 9ms/step - accuracy: 0.4441 - loss: 22.0987 - val_accuracy: 0.6000 - val_loss: 24.0165\n",
            "Epoch 34/100\n",
            "\u001b[1m10/10\u001b[0m \u001b[32m━━━━━━━━━━━━━━━━━━━━\u001b[0m\u001b[37m\u001b[0m \u001b[1m0s\u001b[0m 9ms/step - accuracy: 0.4759 - loss: 60.0463 - val_accuracy: 0.4000 - val_loss: 134.7988\n",
            "Epoch 35/100\n",
            "\u001b[1m10/10\u001b[0m \u001b[32m━━━━━━━━━━━━━━━━━━━━\u001b[0m\u001b[37m\u001b[0m \u001b[1m0s\u001b[0m 9ms/step - accuracy: 0.5034 - loss: 100.7013 - val_accuracy: 0.4000 - val_loss: 179.7160\n",
            "Epoch 36/100\n",
            "\u001b[1m10/10\u001b[0m \u001b[32m━━━━━━━━━━━━━━━━━━━━\u001b[0m\u001b[37m\u001b[0m \u001b[1m0s\u001b[0m 9ms/step - accuracy: 0.4435 - loss: 167.6201 - val_accuracy: 0.6000 - val_loss: 48.6346\n",
            "Epoch 37/100\n",
            "\u001b[1m10/10\u001b[0m \u001b[32m━━━━━━━━━━━━━━━━━━━━\u001b[0m\u001b[37m\u001b[0m \u001b[1m0s\u001b[0m 14ms/step - accuracy: 0.5669 - loss: 85.4408 - val_accuracy: 0.6000 - val_loss: 102.4398\n",
            "Epoch 38/100\n",
            "\u001b[1m10/10\u001b[0m \u001b[32m━━━━━━━━━━━━━━━━━━━━\u001b[0m\u001b[37m\u001b[0m \u001b[1m0s\u001b[0m 10ms/step - accuracy: 0.5980 - loss: 35.5281 - val_accuracy: 0.4000 - val_loss: 53.3662\n",
            "Epoch 39/100\n",
            "\u001b[1m10/10\u001b[0m \u001b[32m━━━━━━━━━━━━━━━━━━━━\u001b[0m\u001b[37m\u001b[0m \u001b[1m0s\u001b[0m 9ms/step - accuracy: 0.4992 - loss: 68.6376 - val_accuracy: 0.4000 - val_loss: 90.2018\n",
            "Epoch 40/100\n",
            "\u001b[1m10/10\u001b[0m \u001b[32m━━━━━━━━━━━━━━━━━━━━\u001b[0m\u001b[37m\u001b[0m \u001b[1m0s\u001b[0m 9ms/step - accuracy: 0.4691 - loss: 111.3925 - val_accuracy: 0.6000 - val_loss: 30.8806\n",
            "Epoch 41/100\n",
            "\u001b[1m10/10\u001b[0m \u001b[32m━━━━━━━━━━━━━━━━━━━━\u001b[0m\u001b[37m\u001b[0m \u001b[1m0s\u001b[0m 9ms/step - accuracy: 0.5826 - loss: 51.4541 - val_accuracy: 0.4000 - val_loss: 20.2093\n",
            "Epoch 42/100\n",
            "\u001b[1m10/10\u001b[0m \u001b[32m━━━━━━━━━━━━━━━━━━━━\u001b[0m\u001b[37m\u001b[0m \u001b[1m0s\u001b[0m 9ms/step - accuracy: 0.5024 - loss: 26.1484 - val_accuracy: 0.6000 - val_loss: 142.6121\n",
            "Epoch 43/100\n",
            "\u001b[1m10/10\u001b[0m \u001b[32m━━━━━━━━━━━━━━━━━━━━\u001b[0m\u001b[37m\u001b[0m \u001b[1m0s\u001b[0m 14ms/step - accuracy: 0.5618 - loss: 89.7077 - val_accuracy: 0.6000 - val_loss: 41.1294\n",
            "Epoch 44/100\n",
            "\u001b[1m10/10\u001b[0m \u001b[32m━━━━━━━━━━━━━━━━━━━━\u001b[0m\u001b[37m\u001b[0m \u001b[1m0s\u001b[0m 11ms/step - accuracy: 0.5415 - loss: 20.0623 - val_accuracy: 0.4000 - val_loss: 41.9961\n",
            "Epoch 45/100\n",
            "\u001b[1m10/10\u001b[0m \u001b[32m━━━━━━━━━━━━━━━━━━━━\u001b[0m\u001b[37m\u001b[0m \u001b[1m0s\u001b[0m 9ms/step - accuracy: 0.3724 - loss: 36.2334 - val_accuracy: 0.6000 - val_loss: 54.8107\n",
            "Epoch 46/100\n",
            "\u001b[1m10/10\u001b[0m \u001b[32m━━━━━━━━━━━━━━━━━━━━\u001b[0m\u001b[37m\u001b[0m \u001b[1m0s\u001b[0m 10ms/step - accuracy: 0.5713 - loss: 45.8804 - val_accuracy: 0.4000 - val_loss: 18.6565\n",
            "Epoch 47/100\n",
            "\u001b[1m10/10\u001b[0m \u001b[32m━━━━━━━━━━━━━━━━━━━━\u001b[0m\u001b[37m\u001b[0m \u001b[1m0s\u001b[0m 9ms/step - accuracy: 0.4526 - loss: 24.3825 - val_accuracy: 0.4000 - val_loss: 45.2709\n",
            "Epoch 48/100\n",
            "\u001b[1m10/10\u001b[0m \u001b[32m━━━━━━━━━━━━━━━━━━━━\u001b[0m\u001b[37m\u001b[0m \u001b[1m0s\u001b[0m 9ms/step - accuracy: 0.3822 - loss: 64.2397 - val_accuracy: 0.4000 - val_loss: 28.8878\n",
            "Epoch 49/100\n",
            "\u001b[1m10/10\u001b[0m \u001b[32m━━━━━━━━━━━━━━━━━━━━\u001b[0m\u001b[37m\u001b[0m \u001b[1m0s\u001b[0m 9ms/step - accuracy: 0.5504 - loss: 82.4991 - val_accuracy: 0.6000 - val_loss: 31.1116\n",
            "Epoch 50/100\n",
            "\u001b[1m10/10\u001b[0m \u001b[32m━━━━━━━━━━━━━━━━━━━━\u001b[0m\u001b[37m\u001b[0m \u001b[1m0s\u001b[0m 10ms/step - accuracy: 0.5738 - loss: 27.0407 - val_accuracy: 0.4000 - val_loss: 88.9015\n",
            "Epoch 51/100\n",
            "\u001b[1m10/10\u001b[0m \u001b[32m━━━━━━━━━━━━━━━━━━━━\u001b[0m\u001b[37m\u001b[0m \u001b[1m0s\u001b[0m 9ms/step - accuracy: 0.4346 - loss: 107.2501 - val_accuracy: 0.4000 - val_loss: 47.8441\n",
            "Epoch 52/100\n",
            "\u001b[1m10/10\u001b[0m \u001b[32m━━━━━━━━━━━━━━━━━━━━\u001b[0m\u001b[37m\u001b[0m \u001b[1m0s\u001b[0m 11ms/step - accuracy: 0.4081 - loss: 58.8494 - val_accuracy: 0.4000 - val_loss: 23.4295\n",
            "Epoch 53/100\n",
            "\u001b[1m10/10\u001b[0m \u001b[32m━━━━━━━━━━━━━━━━━━━━\u001b[0m\u001b[37m\u001b[0m \u001b[1m0s\u001b[0m 9ms/step - accuracy: 0.4916 - loss: 29.4571 - val_accuracy: 0.4000 - val_loss: 47.7971\n",
            "Epoch 54/100\n",
            "\u001b[1m10/10\u001b[0m \u001b[32m━━━━━━━━━━━━━━━━━━━━\u001b[0m\u001b[37m\u001b[0m \u001b[1m0s\u001b[0m 10ms/step - accuracy: 0.4882 - loss: 47.2773 - val_accuracy: 0.4000 - val_loss: 41.8957\n",
            "Epoch 55/100\n",
            "\u001b[1m10/10\u001b[0m \u001b[32m━━━━━━━━━━━━━━━━━━━━\u001b[0m\u001b[37m\u001b[0m \u001b[1m0s\u001b[0m 10ms/step - accuracy: 0.5341 - loss: 75.1744 - val_accuracy: 0.3500 - val_loss: 6.2456\n",
            "Epoch 56/100\n",
            "\u001b[1m10/10\u001b[0m \u001b[32m━━━━━━━━━━━━━━━━━━━━\u001b[0m\u001b[37m\u001b[0m \u001b[1m0s\u001b[0m 10ms/step - accuracy: 0.5696 - loss: 106.1988 - val_accuracy: 0.6000 - val_loss: 11.4931\n",
            "Epoch 57/100\n",
            "\u001b[1m10/10\u001b[0m \u001b[32m━━━━━━━━━━━━━━━━━━━━\u001b[0m\u001b[37m\u001b[0m \u001b[1m0s\u001b[0m 10ms/step - accuracy: 0.6206 - loss: 39.2400 - val_accuracy: 0.6000 - val_loss: 182.1383\n",
            "Epoch 58/100\n",
            "\u001b[1m10/10\u001b[0m \u001b[32m━━━━━━━━━━━━━━━━━━━━\u001b[0m\u001b[37m\u001b[0m \u001b[1m0s\u001b[0m 9ms/step - accuracy: 0.5223 - loss: 123.2945 - val_accuracy: 0.4000 - val_loss: 26.9455\n",
            "Epoch 59/100\n",
            "\u001b[1m10/10\u001b[0m \u001b[32m━━━━━━━━━━━━━━━━━━━━\u001b[0m\u001b[37m\u001b[0m \u001b[1m0s\u001b[0m 9ms/step - accuracy: 0.4966 - loss: 32.2751 - val_accuracy: 0.6000 - val_loss: 24.8199\n",
            "Epoch 60/100\n",
            "\u001b[1m10/10\u001b[0m \u001b[32m━━━━━━━━━━━━━━━━━━━━\u001b[0m\u001b[37m\u001b[0m \u001b[1m0s\u001b[0m 12ms/step - accuracy: 0.5324 - loss: 66.5766 - val_accuracy: 0.4000 - val_loss: 56.5969\n",
            "Epoch 61/100\n",
            "\u001b[1m10/10\u001b[0m \u001b[32m━━━━━━━━━━━━━━━━━━━━\u001b[0m\u001b[37m\u001b[0m \u001b[1m0s\u001b[0m 9ms/step - accuracy: 0.4313 - loss: 67.1242 - val_accuracy: 0.4000 - val_loss: 46.3623\n",
            "Epoch 62/100\n",
            "\u001b[1m10/10\u001b[0m \u001b[32m━━━━━━━━━━━━━━━━━━━━\u001b[0m\u001b[37m\u001b[0m \u001b[1m0s\u001b[0m 9ms/step - accuracy: 0.4842 - loss: 34.2853 - val_accuracy: 0.6000 - val_loss: 43.9944\n",
            "Epoch 63/100\n",
            "\u001b[1m10/10\u001b[0m \u001b[32m━━━━━━━━━━━━━━━━━━━━\u001b[0m\u001b[37m\u001b[0m \u001b[1m0s\u001b[0m 9ms/step - accuracy: 0.5534 - loss: 45.2940 - val_accuracy: 0.4000 - val_loss: 107.0787\n",
            "Epoch 64/100\n",
            "\u001b[1m10/10\u001b[0m \u001b[32m━━━━━━━━━━━━━━━━━━━━\u001b[0m\u001b[37m\u001b[0m \u001b[1m0s\u001b[0m 9ms/step - accuracy: 0.4404 - loss: 88.0980 - val_accuracy: 0.4000 - val_loss: 100.5342\n",
            "Epoch 65/100\n",
            "\u001b[1m10/10\u001b[0m \u001b[32m━━━━━━━━━━━━━━━━━━━━\u001b[0m\u001b[37m\u001b[0m \u001b[1m0s\u001b[0m 9ms/step - accuracy: 0.4527 - loss: 94.0831 - val_accuracy: 0.6000 - val_loss: 10.3209\n",
            "Epoch 66/100\n",
            "\u001b[1m10/10\u001b[0m \u001b[32m━━━━━━━━━━━━━━━━━━━━\u001b[0m\u001b[37m\u001b[0m \u001b[1m0s\u001b[0m 9ms/step - accuracy: 0.6164 - loss: 21.7390 - val_accuracy: 0.3625 - val_loss: 6.0887\n",
            "Epoch 67/100\n",
            "\u001b[1m10/10\u001b[0m \u001b[32m━━━━━━━━━━━━━━━━━━━━\u001b[0m\u001b[37m\u001b[0m \u001b[1m0s\u001b[0m 9ms/step - accuracy: 0.4819 - loss: 32.1708 - val_accuracy: 0.4000 - val_loss: 99.5761\n",
            "Epoch 68/100\n",
            "\u001b[1m10/10\u001b[0m \u001b[32m━━━━━━━━━━━━━━━━━━━━\u001b[0m\u001b[37m\u001b[0m \u001b[1m0s\u001b[0m 14ms/step - accuracy: 0.4492 - loss: 84.9171 - val_accuracy: 0.4000 - val_loss: 66.0295\n",
            "Epoch 69/100\n",
            "\u001b[1m10/10\u001b[0m \u001b[32m━━━━━━━━━━━━━━━━━━━━\u001b[0m\u001b[37m\u001b[0m \u001b[1m0s\u001b[0m 10ms/step - accuracy: 0.5161 - loss: 68.1587 - val_accuracy: 0.4000 - val_loss: 79.9173\n",
            "Epoch 70/100\n",
            "\u001b[1m10/10\u001b[0m \u001b[32m━━━━━━━━━━━━━━━━━━━━\u001b[0m\u001b[37m\u001b[0m \u001b[1m0s\u001b[0m 10ms/step - accuracy: 0.5130 - loss: 60.7205 - val_accuracy: 0.6000 - val_loss: 107.4532\n",
            "Epoch 71/100\n",
            "\u001b[1m10/10\u001b[0m \u001b[32m━━━━━━━━━━━━━━━━━━━━\u001b[0m\u001b[37m\u001b[0m \u001b[1m0s\u001b[0m 10ms/step - accuracy: 0.5364 - loss: 74.6952 - val_accuracy: 0.4000 - val_loss: 77.3827\n",
            "Epoch 72/100\n",
            "\u001b[1m10/10\u001b[0m \u001b[32m━━━━━━━━━━━━━━━━━━━━\u001b[0m\u001b[37m\u001b[0m \u001b[1m0s\u001b[0m 9ms/step - accuracy: 0.4299 - loss: 94.6906 - val_accuracy: 0.4000 - val_loss: 84.0908\n",
            "Epoch 73/100\n",
            "\u001b[1m10/10\u001b[0m \u001b[32m━━━━━━━━━━━━━━━━━━━━\u001b[0m\u001b[37m\u001b[0m \u001b[1m0s\u001b[0m 9ms/step - accuracy: 0.4546 - loss: 87.3604 - val_accuracy: 0.4000 - val_loss: 27.2366\n",
            "Epoch 74/100\n",
            "\u001b[1m10/10\u001b[0m \u001b[32m━━━━━━━━━━━━━━━━━━━━\u001b[0m\u001b[37m\u001b[0m \u001b[1m0s\u001b[0m 9ms/step - accuracy: 0.5367 - loss: 32.9140 - val_accuracy: 0.3750 - val_loss: 3.1285\n",
            "Epoch 75/100\n",
            "\u001b[1m10/10\u001b[0m \u001b[32m━━━━━━━━━━━━━━━━━━━━\u001b[0m\u001b[37m\u001b[0m \u001b[1m0s\u001b[0m 11ms/step - accuracy: 0.4307 - loss: 24.4768 - val_accuracy: 0.6000 - val_loss: 59.0174\n",
            "Epoch 76/100\n",
            "\u001b[1m10/10\u001b[0m \u001b[32m━━━━━━━━━━━━━━━━━━━━\u001b[0m\u001b[37m\u001b[0m \u001b[1m0s\u001b[0m 10ms/step - accuracy: 0.5513 - loss: 32.2221 - val_accuracy: 0.6000 - val_loss: 13.9593\n",
            "Epoch 77/100\n",
            "\u001b[1m10/10\u001b[0m \u001b[32m━━━━━━━━━━━━━━━━━━━━\u001b[0m\u001b[37m\u001b[0m \u001b[1m0s\u001b[0m 9ms/step - accuracy: 0.4766 - loss: 38.6390 - val_accuracy: 0.3500 - val_loss: 7.4802\n",
            "Epoch 78/100\n",
            "\u001b[1m10/10\u001b[0m \u001b[32m━━━━━━━━━━━━━━━━━━━━\u001b[0m\u001b[37m\u001b[0m \u001b[1m0s\u001b[0m 13ms/step - accuracy: 0.5122 - loss: 30.4443 - val_accuracy: 0.4000 - val_loss: 66.7496\n",
            "Epoch 79/100\n",
            "\u001b[1m10/10\u001b[0m \u001b[32m━━━━━━━━━━━━━━━━━━━━\u001b[0m\u001b[37m\u001b[0m \u001b[1m0s\u001b[0m 16ms/step - accuracy: 0.5138 - loss: 41.0969 - val_accuracy: 0.4000 - val_loss: 14.6873\n",
            "Epoch 80/100\n",
            "\u001b[1m10/10\u001b[0m \u001b[32m━━━━━━━━━━━━━━━━━━━━\u001b[0m\u001b[37m\u001b[0m \u001b[1m0s\u001b[0m 18ms/step - accuracy: 0.5260 - loss: 18.1362 - val_accuracy: 0.4000 - val_loss: 74.6188\n",
            "Epoch 81/100\n",
            "\u001b[1m10/10\u001b[0m \u001b[32m━━━━━━━━━━━━━━━━━━━━\u001b[0m\u001b[37m\u001b[0m \u001b[1m0s\u001b[0m 13ms/step - accuracy: 0.5070 - loss: 44.9312 - val_accuracy: 0.3625 - val_loss: 6.7744\n",
            "Epoch 82/100\n",
            "\u001b[1m10/10\u001b[0m \u001b[32m━━━━━━━━━━━━━━━━━━━━\u001b[0m\u001b[37m\u001b[0m \u001b[1m0s\u001b[0m 14ms/step - accuracy: 0.4667 - loss: 24.6425 - val_accuracy: 0.4125 - val_loss: 2.0935\n",
            "Epoch 83/100\n",
            "\u001b[1m10/10\u001b[0m \u001b[32m━━━━━━━━━━━━━━━━━━━━\u001b[0m\u001b[37m\u001b[0m \u001b[1m0s\u001b[0m 16ms/step - accuracy: 0.5597 - loss: 49.3442 - val_accuracy: 0.6000 - val_loss: 147.8711\n",
            "Epoch 84/100\n",
            "\u001b[1m10/10\u001b[0m \u001b[32m━━━━━━━━━━━━━━━━━━━━\u001b[0m\u001b[37m\u001b[0m \u001b[1m0s\u001b[0m 18ms/step - accuracy: 0.5959 - loss: 111.6906 - val_accuracy: 0.6000 - val_loss: 99.8074\n",
            "Epoch 85/100\n",
            "\u001b[1m10/10\u001b[0m \u001b[32m━━━━━━━━━━━━━━━━━━━━\u001b[0m\u001b[37m\u001b[0m \u001b[1m0s\u001b[0m 17ms/step - accuracy: 0.5952 - loss: 54.3217 - val_accuracy: 0.4000 - val_loss: 26.9773\n",
            "Epoch 86/100\n",
            "\u001b[1m10/10\u001b[0m \u001b[32m━━━━━━━━━━━━━━━━━━━━\u001b[0m\u001b[37m\u001b[0m \u001b[1m0s\u001b[0m 16ms/step - accuracy: 0.4848 - loss: 32.1753 - val_accuracy: 0.6000 - val_loss: 2.5195\n",
            "Epoch 87/100\n",
            "\u001b[1m10/10\u001b[0m \u001b[32m━━━━━━━━━━━━━━━━━━━━\u001b[0m\u001b[37m\u001b[0m \u001b[1m0s\u001b[0m 18ms/step - accuracy: 0.5694 - loss: 44.6614 - val_accuracy: 0.4000 - val_loss: 99.4271\n",
            "Epoch 88/100\n",
            "\u001b[1m10/10\u001b[0m \u001b[32m━━━━━━━━━━━━━━━━━━━━\u001b[0m\u001b[37m\u001b[0m \u001b[1m0s\u001b[0m 11ms/step - accuracy: 0.4628 - loss: 61.6688 - val_accuracy: 0.4000 - val_loss: 60.8110\n",
            "Epoch 89/100\n",
            "\u001b[1m10/10\u001b[0m \u001b[32m━━━━━━━━━━━━━━━━━━━━\u001b[0m\u001b[37m\u001b[0m \u001b[1m0s\u001b[0m 9ms/step - accuracy: 0.4612 - loss: 71.3716 - val_accuracy: 0.4000 - val_loss: 107.8908\n",
            "Epoch 90/100\n",
            "\u001b[1m10/10\u001b[0m \u001b[32m━━━━━━━━━━━━━━━━━━━━\u001b[0m\u001b[37m\u001b[0m \u001b[1m0s\u001b[0m 13ms/step - accuracy: 0.4774 - loss: 69.1997 - val_accuracy: 0.4000 - val_loss: 15.0557\n",
            "Epoch 91/100\n",
            "\u001b[1m10/10\u001b[0m \u001b[32m━━━━━━━━━━━━━━━━━━━━\u001b[0m\u001b[37m\u001b[0m \u001b[1m0s\u001b[0m 9ms/step - accuracy: 0.4780 - loss: 30.5570 - val_accuracy: 0.6000 - val_loss: 101.4929\n",
            "Epoch 92/100\n",
            "\u001b[1m10/10\u001b[0m \u001b[32m━━━━━━━━━━━━━━━━━━━━\u001b[0m\u001b[37m\u001b[0m \u001b[1m0s\u001b[0m 9ms/step - accuracy: 0.5770 - loss: 61.1826 - val_accuracy: 0.4000 - val_loss: 64.9197\n",
            "Epoch 93/100\n",
            "\u001b[1m10/10\u001b[0m \u001b[32m━━━━━━━━━━━━━━━━━━━━\u001b[0m\u001b[37m\u001b[0m \u001b[1m0s\u001b[0m 9ms/step - accuracy: 0.4871 - loss: 56.7711 - val_accuracy: 0.6000 - val_loss: 36.4987\n",
            "Epoch 94/100\n",
            "\u001b[1m10/10\u001b[0m \u001b[32m━━━━━━━━━━━━━━━━━━━━\u001b[0m\u001b[37m\u001b[0m \u001b[1m0s\u001b[0m 10ms/step - accuracy: 0.5942 - loss: 38.9048 - val_accuracy: 0.4000 - val_loss: 66.5948\n",
            "Epoch 95/100\n",
            "\u001b[1m10/10\u001b[0m \u001b[32m━━━━━━━━━━━━━━━━━━━━\u001b[0m\u001b[37m\u001b[0m \u001b[1m0s\u001b[0m 9ms/step - accuracy: 0.4286 - loss: 65.5621 - val_accuracy: 0.3750 - val_loss: 4.9819\n",
            "Epoch 96/100\n",
            "\u001b[1m10/10\u001b[0m \u001b[32m━━━━━━━━━━━━━━━━━━━━\u001b[0m\u001b[37m\u001b[0m \u001b[1m0s\u001b[0m 10ms/step - accuracy: 0.5221 - loss: 74.4132 - val_accuracy: 0.6000 - val_loss: 84.4938\n",
            "Epoch 97/100\n",
            "\u001b[1m10/10\u001b[0m \u001b[32m━━━━━━━━━━━━━━━━━━━━\u001b[0m\u001b[37m\u001b[0m \u001b[1m0s\u001b[0m 9ms/step - accuracy: 0.6414 - loss: 97.3354 - val_accuracy: 0.6000 - val_loss: 13.8541\n",
            "Epoch 98/100\n",
            "\u001b[1m10/10\u001b[0m \u001b[32m━━━━━━━━━━━━━━━━━━━━\u001b[0m\u001b[37m\u001b[0m \u001b[1m0s\u001b[0m 10ms/step - accuracy: 0.5210 - loss: 29.9035 - val_accuracy: 0.6000 - val_loss: 18.4985\n",
            "Epoch 99/100\n",
            "\u001b[1m10/10\u001b[0m \u001b[32m━━━━━━━━━━━━━━━━━━━━\u001b[0m\u001b[37m\u001b[0m \u001b[1m0s\u001b[0m 9ms/step - accuracy: 0.6020 - loss: 37.9550 - val_accuracy: 0.6000 - val_loss: 40.2068\n",
            "Epoch 100/100\n",
            "\u001b[1m10/10\u001b[0m \u001b[32m━━━━━━━━━━━━━━━━━━━━\u001b[0m\u001b[37m\u001b[0m \u001b[1m0s\u001b[0m 9ms/step - accuracy: 0.4589 - loss: 56.3055 - val_accuracy: 0.6000 - val_loss: 62.1087\n"
          ]
        }
      ]
    },
    {
      "cell_type": "code",
      "source": [
        "import matplotlib.pyplot as plt\n",
        "plt.plot(history.history['val_accuracy'])"
      ],
      "metadata": {
        "colab": {
          "base_uri": "https://localhost:8080/",
          "height": 447
        },
        "id": "ZMQRl2lm_VHq",
        "outputId": "d29b226f-08fa-42e7-e9f0-d6296cd89e36"
      },
      "execution_count": 21,
      "outputs": [
        {
          "output_type": "execute_result",
          "data": {
            "text/plain": [
              "[<matplotlib.lines.Line2D at 0x7b1fbb52d050>]"
            ]
          },
          "metadata": {},
          "execution_count": 21
        },
        {
          "output_type": "display_data",
          "data": {
            "text/plain": [
              "<Figure size 640x480 with 1 Axes>"
            ],
            "image/png": "[encoded data removed]"
          },
          "metadata": {}
        }
      ]
    },
    {
      "cell_type": "code",
      "source": [
        "# Applying scaling"
      ],
      "metadata": {
        "id": "_STlGeh5_lBW"
      },
      "execution_count": 22,
      "outputs": []
    },
    {
      "cell_type": "code",
      "source": [
        "from sklearn.preprocessing import StandardScaler\n",
        "scaler = StandardScaler()\n",
        "\n",
        "X_train_scaled = scaler.fit_transform(X_train)\n",
        "X_test_scaled = scaler.transform(X_test)"
      ],
      "metadata": {
        "id": "QQGb-bfy_5TK"
      },
      "execution_count": 23,
      "outputs": []
    },
    {
      "cell_type": "code",
      "source": [
        "X_train_scaled"
      ],
      "metadata": {
        "colab": {
          "base_uri": "https://localhost:8080/"
        },
        "id": "NRGauCO7KrVT",
        "outputId": "7b980d5f-1f3f-440c-a2fc-37ccca04ed79"
      },
      "execution_count": 24,
      "outputs": [
        {
          "output_type": "execute_result",
          "data": {
            "text/plain": [
              "array([[ 0.88928823, -0.65924556],\n",
              "       [-0.17254846,  0.87392651],\n",
              "       [-1.04132394, -0.36440478],\n",
              "       [ 0.98581884,  0.6085698 ],\n",
              "       [-0.94479333,  0.57908572],\n",
              "       [ 0.40663519,  0.01888824],\n",
              "       [ 0.98581884,  2.11225779],\n",
              "       [ 0.31010458, -0.30543662],\n",
              "       [ 1.7580637 , -0.27595254],\n",
              "       [-0.17254846,  2.20071003],\n",
              "       [ 1.7580637 ,  1.0213469 ],\n",
              "       [-1.33091576, -1.48479975],\n",
              "       [ 2.04765553,  0.54960165],\n",
              "       [ 1.27541066,  1.90586924],\n",
              "       [-1.13785454,  0.31372902],\n",
              "       [-0.36560968, -0.77718187],\n",
              "       [-1.71703819,  0.49063349],\n",
              "       [-0.5586709 , -1.51428383],\n",
              "       [ 0.31010458, -0.71821372],\n",
              "       [ 0.02051275, -0.57079333],\n",
              "       [ 0.02051275,  0.04837232],\n",
              "       [-0.07601785, -0.51182517],\n",
              "       [-0.6552015 , -1.51428383],\n",
              "       [ 0.02051275,  0.31372902],\n",
              "       [ 0.31010458,  0.07785639],\n",
              "       [-0.46214029, -1.13099081],\n",
              "       [-0.75173211, -1.54376791],\n",
              "       [-0.26907907, -0.65924556],\n",
              "       [-1.13785454,  0.49063349],\n",
              "       [-0.07601785,  2.20071003],\n",
              "       [ 0.02051275,  0.04837232],\n",
              "       [-1.13785454, -1.57325199],\n",
              "       [ 1.08234944,  0.54960165],\n",
              "       [-0.26907907, -1.24892713],\n",
              "       [ 1.37194127, -0.92460227],\n",
              "       [-1.42744637, -1.21944305],\n",
              "       [-0.94479333, -0.95408634],\n",
              "       [ 1.95112492, -0.65924556],\n",
              "       [ 0.88928823, -0.57079333],\n",
              "       [-1.13785454,  0.31372902],\n",
              "       [ 0.02051275, -0.24646847],\n",
              "       [ 0.79275762, -1.39634752],\n",
              "       [-0.26907907, -0.36440478],\n",
              "       [ 0.88928823,  1.2867036 ],\n",
              "       [ 0.31010458, -0.18750031],\n",
              "       [-0.26907907, -0.57079333],\n",
              "       [-0.26907907, -1.39634752],\n",
              "       [ 1.46847188, -1.04253858],\n",
              "       [-0.07601785,  0.13682455],\n",
              "       [-0.84826272, -0.65924556],\n",
              "       [-0.07601785,  0.01888824],\n",
              "       [-0.26907907,  0.10734047],\n",
              "       [ 0.21357397, -0.30543662],\n",
              "       [-0.26907907,  0.28424494],\n",
              "       [ 0.11704336,  0.04837232],\n",
              "       [ 1.95112492,  2.20071003],\n",
              "       [-1.04132394, -1.45531567],\n",
              "       [ 0.31010458,  0.31372902],\n",
              "       [ 2.04765553, -1.18995897],\n",
              "       [-1.13785454, -0.51182517],\n",
              "       [ 0.21357397,  0.16630863],\n",
              "       [-0.26907907, -0.92460227],\n",
              "       [-0.6552015 ,  0.04837232],\n",
              "       [ 0.21357397,  0.07785639],\n",
              "       [ 0.40663519, -0.12853215],\n",
              "       [-1.13785454, -1.10150673],\n",
              "       [-0.07601785,  2.25967818],\n",
              "       [ 1.08234944, -0.12853215],\n",
              "       [ 0.88928823,  1.05083098],\n",
              "       [-0.07601785,  0.28424494],\n",
              "       [-0.5586709 , -1.51428383],\n",
              "       [-1.13785454, -1.0130545 ],\n",
              "       [-0.75173211,  1.37515584],\n",
              "       [ 1.08234944,  0.57908572],\n",
              "       [ 1.56500249, -1.2784112 ],\n",
              "       [ 0.69622701, -1.39634752],\n",
              "       [-0.6552015 , -1.04253858],\n",
              "       [ 1.17888005,  0.54960165],\n",
              "       [-0.26907907, -1.45531567],\n",
              "       [-1.62050759,  0.54960165],\n",
              "       [-1.04132394, -1.13099081],\n",
              "       [-0.07601785,  0.04837232],\n",
              "       [ 0.31010458,  0.07785639],\n",
              "       [ 0.88928823, -1.36686344],\n",
              "       [-1.04132394, -0.3349207 ],\n",
              "       [-1.8135688 ,  0.19579271],\n",
              "       [-1.8135688 , -1.4258316 ],\n",
              "       [ 0.69622701,  1.81741701],\n",
              "       [-0.07601785,  0.31372902],\n",
              "       [-1.62050759,  0.07785639],\n",
              "       [-0.6552015 ,  1.43412399],\n",
              "       [-0.26907907, -0.24646847],\n",
              "       [-0.36560968,  1.34567176],\n",
              "       [ 0.5031658 ,  1.25721952],\n",
              "       [-0.6552015 ,  0.19579271],\n",
              "       [-1.52397698, -0.42337294],\n",
              "       [-1.04132394,  0.43166533],\n",
              "       [ 0.79275762,  0.28424494],\n",
              "       [ 1.95112492, -0.92460227],\n",
              "       [ 0.79275762, -0.30543662],\n",
              "       [ 0.21357397,  0.25476086],\n",
              "       [-1.71703819, -0.60027741],\n",
              "       [-0.26907907,  0.16630863],\n",
              "       [-1.33091576, -1.24892713],\n",
              "       [-0.26907907, -0.42337294],\n",
              "       [ 0.11704336,  0.10734047],\n",
              "       [-0.94479333,  0.46114941],\n",
              "       [ 2.04765553,  0.40218125],\n",
              "       [-1.91009941,  0.37269718],\n",
              "       [ 2.04765553, -0.80666595],\n",
              "       [ 2.14418614,  1.13928321],\n",
              "       [ 0.79275762, -1.21944305],\n",
              "       [ 0.40663519, -0.45285701],\n",
              "       [ 0.02051275, -0.24646847],\n",
              "       [ 1.46847188,  0.37269718],\n",
              "       [-0.17254846, -0.57079333],\n",
              "       [ 0.21357397, -0.24646847],\n",
              "       [-0.46214029,  2.34813042],\n",
              "       [ 0.11704336,  0.22527679],\n",
              "       [ 0.21357397, -0.65924556],\n",
              "       [ 0.98581884, -1.07202266],\n",
              "       [-0.17254846,  0.16630863],\n",
              "       [-0.07601785,  0.31372902],\n",
              "       [ 0.40663519, -0.48234109],\n",
              "       [-0.36560968, -1.30789528],\n",
              "       [ 0.88928823, -0.77718187],\n",
              "       [-0.94479333,  0.43166533],\n",
              "       [-0.07601785, -0.42337294],\n",
              "       [-0.94479333, -0.42337294],\n",
              "       [-1.8135688 ,  0.46114941],\n",
              "       [-0.84826272, -1.21944305],\n",
              "       [-0.94479333, -0.30543662],\n",
              "       [ 0.98581884,  0.78547427],\n",
              "       [-1.62050759, -0.04007992],\n",
              "       [-1.04132394, -0.3349207 ],\n",
              "       [ 0.02051275, -0.54130925],\n",
              "       [-0.6552015 , -0.3349207 ],\n",
              "       [-1.13785454, -1.54376791],\n",
              "       [ 1.95112492, -1.36686344],\n",
              "       [-0.6552015 , -1.60273606],\n",
              "       [ 0.21357397, -0.36440478],\n",
              "       [ 0.88928823,  2.20071003],\n",
              "       [ 1.17888005, -0.98357042],\n",
              "       [-0.17254846, -0.51182517],\n",
              "       [ 1.66153309,  1.78793293],\n",
              "       [ 1.08234944, -1.21944305],\n",
              "       [ 0.02051275,  1.2867036 ],\n",
              "       [-0.46214029, -0.27595254],\n",
              "       [ 1.66153309, -0.89511819],\n",
              "       [ 0.31010458,  0.52011757],\n",
              "       [-1.04132394, -1.54376791],\n",
              "       [ 1.56500249,  1.13928321],\n",
              "       [-1.52397698,  0.3432131 ],\n",
              "       [ 0.02051275, -0.12853215],\n",
              "       [ 0.11704336, -0.80666595],\n",
              "       [ 0.21357397,  1.10979913],\n",
              "       [ 0.40663519, -0.15801623],\n",
              "       [-0.46214029, -0.01059584],\n",
              "       [ 1.08234944,  2.11225779],\n",
              "       [-0.26907907, -0.12853215],\n",
              "       [-0.75173211, -0.60027741],\n",
              "       [ 1.17888005, -1.45531567],\n",
              "       [-1.42744637, -1.45531567],\n",
              "       [ 1.85459431, -0.27595254],\n",
              "       [ 1.85459431,  0.13682455],\n",
              "       [ 0.40663519,  0.16630863],\n",
              "       [ 1.27541066, -1.36686344],\n",
              "       [-0.46214029, -1.21944305],\n",
              "       [-0.75173211,  1.93535332],\n",
              "       [-0.26907907,  1.13928321],\n",
              "       [ 0.02051275, -0.57079333],\n",
              "       [ 0.21357397, -0.12853215],\n",
              "       [-0.5586709 ,  1.93535332],\n",
              "       [-0.94479333,  0.28424494],\n",
              "       [-1.91009941,  0.49063349],\n",
              "       [-1.33091576,  0.57908572],\n",
              "       [ 0.21357397,  0.16630863],\n",
              "       [ 1.37194127, -1.4258316 ],\n",
              "       [-0.07601785,  0.69702204],\n",
              "       [ 0.11704336,  1.90586924],\n",
              "       [-1.71703819, -0.98357042],\n",
              "       [ 0.21357397, -0.36440478],\n",
              "       [-1.8135688 , -1.30789528],\n",
              "       [ 0.79275762,  0.54960165],\n",
              "       [-0.17254846,  1.43412399],\n",
              "       [-1.04132394,  0.57908572],\n",
              "       [-1.23438515, -1.07202266],\n",
              "       [ 1.37194127,  2.02380556],\n",
              "       [ 0.79275762, -1.10150673],\n",
              "       [ 0.79275762,  0.13682455],\n",
              "       [-1.8135688 , -1.2784112 ],\n",
              "       [ 0.02051275,  1.25721952],\n",
              "       [ 0.88928823, -0.60027741],\n",
              "       [ 2.14418614,  0.40218125],\n",
              "       [ 2.14418614, -0.80666595],\n",
              "       [ 0.98581884, -1.07202266],\n",
              "       [ 0.11704336,  1.55206031],\n",
              "       [-0.94479333,  0.52011757],\n",
              "       [-1.23438515,  0.28424494],\n",
              "       [ 0.40663519,  0.6085698 ],\n",
              "       [ 0.11704336,  0.16630863],\n",
              "       [ 0.21357397,  0.04837232],\n",
              "       [ 2.04765553,  2.17122595],\n",
              "       [-0.07601785, -0.36440478],\n",
              "       [-0.26907907,  0.81495835],\n",
              "       [-1.42744637, -0.18750031],\n",
              "       [ 1.08234944,  0.13682455],\n",
              "       [ 0.31010458,  0.07785639],\n",
              "       [ 0.11704336,  0.04837232],\n",
              "       [ 0.98581884, -1.0130545 ],\n",
              "       [-0.5586709 ,  1.49309215],\n",
              "       [-1.13785454, -1.60273606],\n",
              "       [ 1.27541066,  2.25967818],\n",
              "       [-1.42744637, -0.09904808],\n",
              "       [-1.8135688 , -1.48479975],\n",
              "       [ 0.88928823, -1.16047489],\n",
              "       [ 2.14418614, -0.68872964],\n",
              "       [ 0.5996964 , -0.89511819],\n",
              "       [-1.23438515, -1.39634752],\n",
              "       [-0.46214029, -0.83615003],\n",
              "       [-0.84826272, -0.24646847],\n",
              "       [ 1.46847188,  2.17122595],\n",
              "       [ 0.40663519,  1.0213469 ],\n",
              "       [ 0.02051275, -0.42337294],\n",
              "       [-1.13785454, -1.16047489],\n",
              "       [-0.75173211,  0.57908572],\n",
              "       [ 0.11704336,  1.08031505],\n",
              "       [-0.5586709 ,  1.40463991],\n",
              "       [ 0.11704336,  1.90586924],\n",
              "       [ 0.21357397,  2.14174187],\n",
              "       [ 1.46847188,  1.0213469 ],\n",
              "       [-1.71703819,  0.13682455],\n",
              "       [-0.26907907, -0.48234109],\n",
              "       [ 0.11704336,  0.78547427],\n",
              "       [ 0.88928823, -1.30789528],\n",
              "       [-0.26907907, -0.27595254],\n",
              "       [ 2.14418614, -1.04253858],\n",
              "       [ 0.40663519,  0.31372902],\n",
              "       [-0.17254846,  1.64051254],\n",
              "       [ 0.79275762, -0.83615003],\n",
              "       [-0.94479333,  1.58154438],\n",
              "       [ 0.11704336, -0.24646847],\n",
              "       [-1.23438515,  0.52011757],\n",
              "       [ 0.11704336, -0.80666595],\n",
              "       [ 1.08234944, -0.98357042],\n",
              "       [ 0.98581884,  1.81741701],\n",
              "       [-1.42744637, -0.62976148],\n",
              "       [ 0.98581884, -1.18995897],\n",
              "       [-1.33091576, -0.42337294],\n",
              "       [ 0.31010458,  0.07785639],\n",
              "       [-0.26907907, -0.57079333],\n",
              "       [-0.75173211,  1.10979913],\n",
              "       [ 1.56500249,  1.0213469 ],\n",
              "       [-1.04132394,  0.6085698 ],\n",
              "       [ 0.40663519,  0.10734047],\n",
              "       [-0.94479333, -0.30543662],\n",
              "       [ 1.17888005, -0.7476978 ],\n",
              "       [-1.91009941, -0.51182517],\n",
              "       [ 1.08234944, -1.21944305],\n",
              "       [ 0.31010458,  0.28424494],\n",
              "       [-0.75173211, -1.60273606],\n",
              "       [-0.26907907, -1.30789528],\n",
              "       [-0.26907907,  0.54960165],\n",
              "       [ 0.98581884,  1.90586924],\n",
              "       [-0.6552015 , -0.09904808],\n",
              "       [-0.46214029,  1.2867036 ],\n",
              "       [ 0.31010458, -0.51182517],\n",
              "       [ 1.85459431,  1.55206031],\n",
              "       [ 1.08234944,  0.49063349],\n",
              "       [ 2.04765553,  0.19579271],\n",
              "       [-1.71703819,  0.37269718],\n",
              "       [-0.17254846, -0.18750031],\n",
              "       [-0.6552015 ,  0.57908572],\n",
              "       [ 1.37194127,  1.31618768],\n",
              "       [ 1.08234944, -0.89511819],\n",
              "       [ 1.85459431, -1.07202266],\n",
              "       [-0.75173211,  0.52011757],\n",
              "       [-1.33091576, -1.10150673],\n",
              "       [ 0.79275762,  0.37269718],\n",
              "       [-0.84826272,  0.40218125],\n",
              "       [-0.75173211,  0.31372902],\n",
              "       [-1.04132394,  1.99432148],\n",
              "       [-0.07601785,  0.07785639],\n",
              "       [ 1.37194127,  2.3776145 ],\n",
              "       [-0.07601785,  0.16630863],\n",
              "       [-0.07601785,  1.99432148],\n",
              "       [-0.75173211,  0.28424494],\n",
              "       [-1.13785454,  0.3432131 ],\n",
              "       [ 0.31010458, -0.27595254],\n",
              "       [ 0.98581884, -1.16047489],\n",
              "       [ 1.37194127,  0.6085698 ],\n",
              "       [-1.52397698, -1.51428383],\n",
              "       [-0.94479333, -0.7476978 ],\n",
              "       [-1.13785454,  0.07785639],\n",
              "       [ 0.40663519, -0.45285701],\n",
              "       [-1.91009941, -0.7476978 ],\n",
              "       [ 0.40663519,  0.28424494],\n",
              "       [-0.26907907,  0.22527679],\n",
              "       [-0.5586709 ,  0.49063349],\n",
              "       [-0.36560968, -0.77718187],\n",
              "       [-0.26907907,  0.04837232],\n",
              "       [-0.07601785,  0.22527679],\n",
              "       [-0.26907907,  0.16630863],\n",
              "       [ 0.31010458, -0.54130925],\n",
              "       [ 0.79275762,  0.78547427],\n",
              "       [ 0.98581884,  2.02380556],\n",
              "       [-0.17254846, -0.27595254],\n",
              "       [-1.04132394, -0.45285701],\n",
              "       [-0.26907907, -0.3349207 ],\n",
              "       [ 0.11704336, -0.30543662],\n",
              "       [-0.26907907, -0.7476978 ],\n",
              "       [-0.07601785, -1.07202266],\n",
              "       [-0.26907907,  0.07785639],\n",
              "       [ 0.5031658 ,  1.75844885],\n",
              "       [-0.36560968,  1.25721952],\n",
              "       [ 0.79275762,  1.40463991],\n",
              "       [ 0.98581884, -0.83615003],\n",
              "       [-1.71703819, -1.36686344],\n",
              "       [-0.84826272,  0.31372902],\n",
              "       [-0.84826272,  2.31864634]])"
            ]
          },
          "metadata": {},
          "execution_count": 24
        }
      ]
    },
    {
      "cell_type": "code",
      "source": [
        "sns.scatterplot(x=X_train_scaled[:,0],y=X_train_scaled[:,1])"
      ],
      "metadata": {
        "colab": {
          "base_uri": "https://localhost:8080/",
          "height": 447
        },
        "id": "CvhZdAbXKwoJ",
        "outputId": "2fcda217-1c91-4d12-b880-55a3c360044f"
      },
      "execution_count": 26,
      "outputs": [
        {
          "output_type": "execute_result",
          "data": {
            "text/plain": [
              "<Axes: >"
            ]
          },
          "metadata": {},
          "execution_count": 26
        },
        {
          "output_type": "display_data",
          "data": {
            "text/plain": [
              "<Figure size 640x480 with 1 Axes>"
            ],
            "image/png": "[encoded data removed]"
          },
          "metadata": {}
        }
      ]
    },
    {
      "cell_type": "code",
      "source": [
        "model = Sequential()\n",
        "\n",
        "model.add(Dense(128,activation='relu',input_dim=2))\n",
        "model.add(Dense(1,activation='sigmoid'))\n",
        "\n",
        "model.compile(optimizer='adam',loss='binary_crossentropy',metrics=['accuracy'])\n",
        "\n",
        "history = model.fit(X_train_scaled,y_train,validation_data=(X_test_scaled,y_test),epochs=100)"
      ],
      "metadata": {
        "colab": {
          "base_uri": "https://localhost:8080/"
        },
        "id": "g-DZoervAJzJ",
        "outputId": "dbfd29f7-79ce-47fd-8509-d2882aa7e0b2"
      },
      "execution_count": 27,
      "outputs": [
        {
          "output_type": "stream",
          "name": "stderr",
          "text": [
            "/usr/local/lib/python3.11/dist-packages/keras/src/layers/core/dense.py:87: UserWarning: Do not pass an `input_shape`/`input_dim` argument to a layer. When using Sequential models, prefer using an `Input(shape)` object as the first layer in the model instead.\n",
            "  super().__init__(activity_regularizer=activity_regularizer, **kwargs)\n"
          ]
        },
        {
          "output_type": "stream",
          "name": "stdout",
          "text": [
            "Epoch 1/100\n",
            "\u001b[1m10/10\u001b[0m \u001b[32m━━━━━━━━━━━━━━━━━━━━\u001b[0m\u001b[37m\u001b[0m \u001b[1m1s\u001b[0m 30ms/step - accuracy: 0.7260 - loss: 0.6611 - val_accuracy: 0.8125 - val_loss: 0.6094\n",
            "Epoch 2/100\n",
            "\u001b[1m10/10\u001b[0m \u001b[32m━━━━━━━━━━━━━━━━━━━━\u001b[0m\u001b[37m\u001b[0m \u001b[1m0s\u001b[0m 10ms/step - accuracy: 0.7920 - loss: 0.6074 - val_accuracy: 0.8625 - val_loss: 0.5568\n",
            "Epoch 3/100\n",
            "\u001b[1m10/10\u001b[0m \u001b[32m━━━━━━━━━━━━━━━━━━━━\u001b[0m\u001b[37m\u001b[0m \u001b[1m0s\u001b[0m 9ms/step - accuracy: 0.8361 - loss: 0.5619 - val_accuracy: 0.8500 - val_loss: 0.5116\n",
            "Epoch 4/100\n",
            "\u001b[1m10/10\u001b[0m \u001b[32m━━━━━━━━━━━━━━━━━━━━\u001b[0m\u001b[37m\u001b[0m \u001b[1m0s\u001b[0m 9ms/step - accuracy: 0.8450 - loss: 0.5274 - val_accuracy: 0.8250 - val_loss: 0.4737\n",
            "Epoch 5/100\n",
            "\u001b[1m10/10\u001b[0m \u001b[32m━━━━━━━━━━━━━━━━━━━━\u001b[0m\u001b[37m\u001b[0m \u001b[1m0s\u001b[0m 9ms/step - accuracy: 0.8501 - loss: 0.4825 - val_accuracy: 0.8125 - val_loss: 0.4425\n",
            "Epoch 6/100\n",
            "\u001b[1m10/10\u001b[0m \u001b[32m━━━━━━━━━━━━━━━━━━━━\u001b[0m\u001b[37m\u001b[0m \u001b[1m0s\u001b[0m 9ms/step - accuracy: 0.8756 - loss: 0.4391 - val_accuracy: 0.8250 - val_loss: 0.4164\n",
            "Epoch 7/100\n",
            "\u001b[1m10/10\u001b[0m \u001b[32m━━━━━━━━━━━━━━━━━━━━\u001b[0m\u001b[37m\u001b[0m \u001b[1m0s\u001b[0m 9ms/step - accuracy: 0.8281 - loss: 0.4459 - val_accuracy: 0.8250 - val_loss: 0.3960\n",
            "Epoch 8/100\n",
            "\u001b[1m10/10\u001b[0m \u001b[32m━━━━━━━━━━━━━━━━━━━━\u001b[0m\u001b[37m\u001b[0m \u001b[1m0s\u001b[0m 10ms/step - accuracy: 0.8706 - loss: 0.3912 - val_accuracy: 0.8375 - val_loss: 0.3774\n",
            "Epoch 9/100\n",
            "\u001b[1m10/10\u001b[0m \u001b[32m━━━━━━━━━━━━━━━━━━━━\u001b[0m\u001b[37m\u001b[0m \u001b[1m0s\u001b[0m 10ms/step - accuracy: 0.8912 - loss: 0.3805 - val_accuracy: 0.8500 - val_loss: 0.3616\n",
            "Epoch 10/100\n",
            "\u001b[1m10/10\u001b[0m \u001b[32m━━━━━━━━━━━━━━━━━━━━\u001b[0m\u001b[37m\u001b[0m \u001b[1m0s\u001b[0m 9ms/step - accuracy: 0.8906 - loss: 0.3745 - val_accuracy: 0.8500 - val_loss: 0.3488\n",
            "Epoch 11/100\n",
            "\u001b[1m10/10\u001b[0m \u001b[32m━━━━━━━━━━━━━━━━━━━━\u001b[0m\u001b[37m\u001b[0m \u001b[1m0s\u001b[0m 9ms/step - accuracy: 0.8839 - loss: 0.3477 - val_accuracy: 0.8375 - val_loss: 0.3392\n",
            "Epoch 12/100\n",
            "\u001b[1m10/10\u001b[0m \u001b[32m━━━━━━━━━━━━━━━━━━━━\u001b[0m\u001b[37m\u001b[0m \u001b[1m0s\u001b[0m 13ms/step - accuracy: 0.8836 - loss: 0.3591 - val_accuracy: 0.8375 - val_loss: 0.3312\n",
            "Epoch 13/100\n",
            "\u001b[1m10/10\u001b[0m \u001b[32m━━━━━━━━━━━━━━━━━━━━\u001b[0m\u001b[37m\u001b[0m \u001b[1m0s\u001b[0m 9ms/step - accuracy: 0.8650 - loss: 0.3400 - val_accuracy: 0.8375 - val_loss: 0.3231\n",
            "Epoch 14/100\n",
            "\u001b[1m10/10\u001b[0m \u001b[32m━━━━━━━━━━━━━━━━━━━━\u001b[0m\u001b[37m\u001b[0m \u001b[1m0s\u001b[0m 9ms/step - accuracy: 0.8967 - loss: 0.3165 - val_accuracy: 0.8375 - val_loss: 0.3167\n",
            "Epoch 15/100\n",
            "\u001b[1m10/10\u001b[0m \u001b[32m━━━━━━━━━━━━━━━━━━━━\u001b[0m\u001b[37m\u001b[0m \u001b[1m0s\u001b[0m 12ms/step - accuracy: 0.8775 - loss: 0.3100 - val_accuracy: 0.8500 - val_loss: 0.3111\n",
            "Epoch 16/100\n",
            "\u001b[1m10/10\u001b[0m \u001b[32m━━━━━━━━━━━━━━━━━━━━\u001b[0m\u001b[37m\u001b[0m \u001b[1m0s\u001b[0m 9ms/step - accuracy: 0.8787 - loss: 0.3113 - val_accuracy: 0.8500 - val_loss: 0.3055\n",
            "Epoch 17/100\n",
            "\u001b[1m10/10\u001b[0m \u001b[32m━━━━━━━━━━━━━━━━━━━━\u001b[0m\u001b[37m\u001b[0m \u001b[1m0s\u001b[0m 9ms/step - accuracy: 0.9127 - loss: 0.2980 - val_accuracy: 0.8500 - val_loss: 0.3016\n",
            "Epoch 18/100\n",
            "\u001b[1m10/10\u001b[0m \u001b[32m━━━━━━━━━━━━━━━━━━━━\u001b[0m\u001b[37m\u001b[0m \u001b[1m0s\u001b[0m 10ms/step - accuracy: 0.9174 - loss: 0.2823 - val_accuracy: 0.8500 - val_loss: 0.2973\n",
            "Epoch 19/100\n",
            "\u001b[1m10/10\u001b[0m \u001b[32m━━━━━━━━━━━━━━━━━━━━\u001b[0m\u001b[37m\u001b[0m \u001b[1m0s\u001b[0m 9ms/step - accuracy: 0.8857 - loss: 0.3002 - val_accuracy: 0.8625 - val_loss: 0.2941\n",
            "Epoch 20/100\n",
            "\u001b[1m10/10\u001b[0m \u001b[32m━━━━━━━━━━━━━━━━━━━━\u001b[0m\u001b[37m\u001b[0m \u001b[1m0s\u001b[0m 9ms/step - accuracy: 0.9006 - loss: 0.2700 - val_accuracy: 0.8625 - val_loss: 0.2920\n",
            "Epoch 21/100\n",
            "\u001b[1m10/10\u001b[0m \u001b[32m━━━━━━━━━━━━━━━━━━━━\u001b[0m\u001b[37m\u001b[0m \u001b[1m0s\u001b[0m 9ms/step - accuracy: 0.8925 - loss: 0.2969 - val_accuracy: 0.8625 - val_loss: 0.2909\n",
            "Epoch 22/100\n",
            "\u001b[1m10/10\u001b[0m \u001b[32m━━━━━━━━━━━━━━━━━━━━\u001b[0m\u001b[37m\u001b[0m \u001b[1m0s\u001b[0m 13ms/step - accuracy: 0.9064 - loss: 0.2591 - val_accuracy: 0.8625 - val_loss: 0.2883\n",
            "Epoch 23/100\n",
            "\u001b[1m10/10\u001b[0m \u001b[32m━━━━━━━━━━━━━━━━━━━━\u001b[0m\u001b[37m\u001b[0m \u001b[1m0s\u001b[0m 9ms/step - accuracy: 0.8730 - loss: 0.3171 - val_accuracy: 0.8625 - val_loss: 0.2860\n",
            "Epoch 24/100\n",
            "\u001b[1m10/10\u001b[0m \u001b[32m━━━━━━━━━━━━━━━━━━━━\u001b[0m\u001b[37m\u001b[0m \u001b[1m0s\u001b[0m 9ms/step - accuracy: 0.8845 - loss: 0.2813 - val_accuracy: 0.8750 - val_loss: 0.2846\n",
            "Epoch 25/100\n",
            "\u001b[1m10/10\u001b[0m \u001b[32m━━━━━━━━━━━━━━━━━━━━\u001b[0m\u001b[37m\u001b[0m \u001b[1m0s\u001b[0m 10ms/step - accuracy: 0.8769 - loss: 0.2836 - val_accuracy: 0.8750 - val_loss: 0.2820\n",
            "Epoch 26/100\n",
            "\u001b[1m10/10\u001b[0m \u001b[32m━━━━━━━━━━━━━━━━━━━━\u001b[0m\u001b[37m\u001b[0m \u001b[1m0s\u001b[0m 9ms/step - accuracy: 0.9043 - loss: 0.2484 - val_accuracy: 0.8750 - val_loss: 0.2815\n",
            "Epoch 27/100\n",
            "\u001b[1m10/10\u001b[0m \u001b[32m━━━━━━━━━━━━━━━━━━━━\u001b[0m\u001b[37m\u001b[0m \u001b[1m0s\u001b[0m 9ms/step - accuracy: 0.9036 - loss: 0.2458 - val_accuracy: 0.8750 - val_loss: 0.2794\n",
            "Epoch 28/100\n",
            "\u001b[1m10/10\u001b[0m \u001b[32m━━━━━━━━━━━━━━━━━━━━\u001b[0m\u001b[37m\u001b[0m \u001b[1m0s\u001b[0m 9ms/step - accuracy: 0.8843 - loss: 0.2996 - val_accuracy: 0.8750 - val_loss: 0.2795\n",
            "Epoch 29/100\n",
            "\u001b[1m10/10\u001b[0m \u001b[32m━━━━━━━━━━━━━━━━━━━━\u001b[0m\u001b[37m\u001b[0m \u001b[1m0s\u001b[0m 10ms/step - accuracy: 0.9022 - loss: 0.2466 - val_accuracy: 0.8750 - val_loss: 0.2784\n",
            "Epoch 30/100\n",
            "\u001b[1m10/10\u001b[0m \u001b[32m━━━━━━━━━━━━━━━━━━━━\u001b[0m\u001b[37m\u001b[0m \u001b[1m0s\u001b[0m 11ms/step - accuracy: 0.9191 - loss: 0.2290 - val_accuracy: 0.8750 - val_loss: 0.2753\n",
            "Epoch 31/100\n",
            "\u001b[1m10/10\u001b[0m \u001b[32m━━━━━━━━━━━━━━━━━━━━\u001b[0m\u001b[37m\u001b[0m \u001b[1m0s\u001b[0m 13ms/step - accuracy: 0.8924 - loss: 0.2452 - val_accuracy: 0.8750 - val_loss: 0.2759\n",
            "Epoch 32/100\n",
            "\u001b[1m10/10\u001b[0m \u001b[32m━━━━━━━━━━━━━━━━━━━━\u001b[0m\u001b[37m\u001b[0m \u001b[1m0s\u001b[0m 9ms/step - accuracy: 0.9104 - loss: 0.2413 - val_accuracy: 0.8750 - val_loss: 0.2740\n",
            "Epoch 33/100\n",
            "\u001b[1m10/10\u001b[0m \u001b[32m━━━━━━━━━━━━━━━━━━━━\u001b[0m\u001b[37m\u001b[0m \u001b[1m0s\u001b[0m 9ms/step - accuracy: 0.9103 - loss: 0.2205 - val_accuracy: 0.8750 - val_loss: 0.2742\n",
            "Epoch 34/100\n",
            "\u001b[1m10/10\u001b[0m \u001b[32m━━━━━━━━━━━━━━━━━━━━\u001b[0m\u001b[37m\u001b[0m \u001b[1m0s\u001b[0m 10ms/step - accuracy: 0.8773 - loss: 0.2911 - val_accuracy: 0.8750 - val_loss: 0.2738\n",
            "Epoch 35/100\n",
            "\u001b[1m10/10\u001b[0m \u001b[32m━━━━━━━━━━━━━━━━━━━━\u001b[0m\u001b[37m\u001b[0m \u001b[1m0s\u001b[0m 9ms/step - accuracy: 0.9126 - loss: 0.2376 - val_accuracy: 0.8875 - val_loss: 0.2718\n",
            "Epoch 36/100\n",
            "\u001b[1m10/10\u001b[0m \u001b[32m━━━━━━━━━━━━━━━━━━━━\u001b[0m\u001b[37m\u001b[0m \u001b[1m0s\u001b[0m 14ms/step - accuracy: 0.9097 - loss: 0.2255 - val_accuracy: 0.8875 - val_loss: 0.2717\n",
            "Epoch 37/100\n",
            "\u001b[1m10/10\u001b[0m \u001b[32m━━━━━━━━━━━━━━━━━━━━\u001b[0m\u001b[37m\u001b[0m \u001b[1m0s\u001b[0m 10ms/step - accuracy: 0.8849 - loss: 0.2814 - val_accuracy: 0.8750 - val_loss: 0.2736\n",
            "Epoch 38/100\n",
            "\u001b[1m10/10\u001b[0m \u001b[32m━━━━━━━━━━━━━━━━━━━━\u001b[0m\u001b[37m\u001b[0m \u001b[1m0s\u001b[0m 11ms/step - accuracy: 0.8860 - loss: 0.2779 - val_accuracy: 0.8875 - val_loss: 0.2705\n",
            "Epoch 39/100\n",
            "\u001b[1m10/10\u001b[0m \u001b[32m━━━━━━━━━━━━━━━━━━━━\u001b[0m\u001b[37m\u001b[0m \u001b[1m0s\u001b[0m 9ms/step - accuracy: 0.8934 - loss: 0.2392 - val_accuracy: 0.8750 - val_loss: 0.2714\n",
            "Epoch 40/100\n",
            "\u001b[1m10/10\u001b[0m \u001b[32m━━━━━━━━━━━━━━━━━━━━\u001b[0m\u001b[37m\u001b[0m \u001b[1m0s\u001b[0m 10ms/step - accuracy: 0.8978 - loss: 0.2418 - val_accuracy: 0.8750 - val_loss: 0.2712\n",
            "Epoch 41/100\n",
            "\u001b[1m10/10\u001b[0m \u001b[32m━━━━━━━━━━━━━━━━━━━━\u001b[0m\u001b[37m\u001b[0m \u001b[1m0s\u001b[0m 9ms/step - accuracy: 0.9177 - loss: 0.2070 - val_accuracy: 0.8750 - val_loss: 0.2700\n",
            "Epoch 42/100\n",
            "\u001b[1m10/10\u001b[0m \u001b[32m━━━━━━━━━━━━━━━━━━━━\u001b[0m\u001b[37m\u001b[0m \u001b[1m0s\u001b[0m 10ms/step - accuracy: 0.8931 - loss: 0.2322 - val_accuracy: 0.8875 - val_loss: 0.2676\n",
            "Epoch 43/100\n",
            "\u001b[1m10/10\u001b[0m \u001b[32m━━━━━━━━━━━━━━━━━━━━\u001b[0m\u001b[37m\u001b[0m \u001b[1m0s\u001b[0m 10ms/step - accuracy: 0.9272 - loss: 0.2059 - val_accuracy: 0.8750 - val_loss: 0.2696\n",
            "Epoch 44/100\n",
            "\u001b[1m10/10\u001b[0m \u001b[32m━━━━━━━━━━━━━━━━━━━━\u001b[0m\u001b[37m\u001b[0m \u001b[1m0s\u001b[0m 9ms/step - accuracy: 0.9001 - loss: 0.2536 - val_accuracy: 0.8750 - val_loss: 0.2696\n",
            "Epoch 45/100\n",
            "\u001b[1m10/10\u001b[0m \u001b[32m━━━━━━━━━━━━━━━━━━━━\u001b[0m\u001b[37m\u001b[0m \u001b[1m0s\u001b[0m 10ms/step - accuracy: 0.9138 - loss: 0.2350 - val_accuracy: 0.8875 - val_loss: 0.2674\n",
            "Epoch 46/100\n",
            "\u001b[1m10/10\u001b[0m \u001b[32m━━━━━━━━━━━━━━━━━━━━\u001b[0m\u001b[37m\u001b[0m \u001b[1m0s\u001b[0m 11ms/step - accuracy: 0.8642 - loss: 0.2896 - val_accuracy: 0.8875 - val_loss: 0.2678\n",
            "Epoch 47/100\n",
            "\u001b[1m10/10\u001b[0m \u001b[32m━━━━━━━━━━━━━━━━━━━━\u001b[0m\u001b[37m\u001b[0m \u001b[1m0s\u001b[0m 9ms/step - accuracy: 0.8848 - loss: 0.2604 - val_accuracy: 0.8750 - val_loss: 0.2695\n",
            "Epoch 48/100\n",
            "\u001b[1m10/10\u001b[0m \u001b[32m━━━━━━━━━━━━━━━━━━━━\u001b[0m\u001b[37m\u001b[0m \u001b[1m0s\u001b[0m 9ms/step - accuracy: 0.9010 - loss: 0.2348 - val_accuracy: 0.8750 - val_loss: 0.2685\n",
            "Epoch 49/100\n",
            "\u001b[1m10/10\u001b[0m \u001b[32m━━━━━━━━━━━━━━━━━━━━\u001b[0m\u001b[37m\u001b[0m \u001b[1m0s\u001b[0m 10ms/step - accuracy: 0.8970 - loss: 0.2553 - val_accuracy: 0.8750 - val_loss: 0.2680\n",
            "Epoch 50/100\n",
            "\u001b[1m10/10\u001b[0m \u001b[32m━━━━━━━━━━━━━━━━━━━━\u001b[0m\u001b[37m\u001b[0m \u001b[1m0s\u001b[0m 10ms/step - accuracy: 0.8974 - loss: 0.2287 - val_accuracy: 0.8750 - val_loss: 0.2672\n",
            "Epoch 51/100\n",
            "\u001b[1m10/10\u001b[0m \u001b[32m━━━━━━━━━━━━━━━━━━━━\u001b[0m\u001b[37m\u001b[0m \u001b[1m0s\u001b[0m 9ms/step - accuracy: 0.9082 - loss: 0.2275 - val_accuracy: 0.8750 - val_loss: 0.2695\n",
            "Epoch 52/100\n",
            "\u001b[1m10/10\u001b[0m \u001b[32m━━━━━━━━━━━━━━━━━━━━\u001b[0m\u001b[37m\u001b[0m \u001b[1m0s\u001b[0m 9ms/step - accuracy: 0.8844 - loss: 0.2605 - val_accuracy: 0.8750 - val_loss: 0.2688\n",
            "Epoch 53/100\n",
            "\u001b[1m10/10\u001b[0m \u001b[32m━━━━━━━━━━━━━━━━━━━━\u001b[0m\u001b[37m\u001b[0m \u001b[1m0s\u001b[0m 13ms/step - accuracy: 0.9263 - loss: 0.1861 - val_accuracy: 0.8750 - val_loss: 0.2672\n",
            "Epoch 54/100\n",
            "\u001b[1m10/10\u001b[0m \u001b[32m━━━━━━━━━━━━━━━━━━━━\u001b[0m\u001b[37m\u001b[0m \u001b[1m0s\u001b[0m 11ms/step - accuracy: 0.8996 - loss: 0.2420 - val_accuracy: 0.8750 - val_loss: 0.2690\n",
            "Epoch 55/100\n",
            "\u001b[1m10/10\u001b[0m \u001b[32m━━━━━━━━━━━━━━━━━━━━\u001b[0m\u001b[37m\u001b[0m \u001b[1m0s\u001b[0m 9ms/step - accuracy: 0.8957 - loss: 0.2459 - val_accuracy: 0.8750 - val_loss: 0.2674\n",
            "Epoch 56/100\n",
            "\u001b[1m10/10\u001b[0m \u001b[32m━━━━━━━━━━━━━━━━━━━━\u001b[0m\u001b[37m\u001b[0m \u001b[1m0s\u001b[0m 9ms/step - accuracy: 0.9065 - loss: 0.2460 - val_accuracy: 0.8750 - val_loss: 0.2672\n",
            "Epoch 57/100\n",
            "\u001b[1m10/10\u001b[0m \u001b[32m━━━━━━━━━━━━━━━━━━━━\u001b[0m\u001b[37m\u001b[0m \u001b[1m0s\u001b[0m 10ms/step - accuracy: 0.8875 - loss: 0.2632 - val_accuracy: 0.8750 - val_loss: 0.2661\n",
            "Epoch 58/100\n",
            "\u001b[1m10/10\u001b[0m \u001b[32m━━━━━━━━━━━━━━━━━━━━\u001b[0m\u001b[37m\u001b[0m \u001b[1m0s\u001b[0m 9ms/step - accuracy: 0.8993 - loss: 0.2352 - val_accuracy: 0.9250 - val_loss: 0.2649\n",
            "Epoch 59/100\n",
            "\u001b[1m10/10\u001b[0m \u001b[32m━━━━━━━━━━━━━━━━━━━━\u001b[0m\u001b[37m\u001b[0m \u001b[1m0s\u001b[0m 9ms/step - accuracy: 0.9139 - loss: 0.2228 - val_accuracy: 0.9250 - val_loss: 0.2661\n",
            "Epoch 60/100\n",
            "\u001b[1m10/10\u001b[0m \u001b[32m━━━━━━━━━━━━━━━━━━━━\u001b[0m\u001b[37m\u001b[0m \u001b[1m0s\u001b[0m 10ms/step - accuracy: 0.9040 - loss: 0.2366 - val_accuracy: 0.8750 - val_loss: 0.2675\n",
            "Epoch 61/100\n",
            "\u001b[1m10/10\u001b[0m \u001b[32m━━━━━━━━━━━━━━━━━━━━\u001b[0m\u001b[37m\u001b[0m \u001b[1m0s\u001b[0m 14ms/step - accuracy: 0.9107 - loss: 0.2352 - val_accuracy: 0.8750 - val_loss: 0.2668\n",
            "Epoch 62/100\n",
            "\u001b[1m10/10\u001b[0m \u001b[32m━━━━━━━━━━━━━━━━━━━━\u001b[0m\u001b[37m\u001b[0m \u001b[1m0s\u001b[0m 11ms/step - accuracy: 0.8940 - loss: 0.2560 - val_accuracy: 0.9250 - val_loss: 0.2650\n",
            "Epoch 63/100\n",
            "\u001b[1m10/10\u001b[0m \u001b[32m━━━━━━━━━━━━━━━━━━━━\u001b[0m\u001b[37m\u001b[0m \u001b[1m0s\u001b[0m 9ms/step - accuracy: 0.9124 - loss: 0.2226 - val_accuracy: 0.9250 - val_loss: 0.2651\n",
            "Epoch 64/100\n",
            "\u001b[1m10/10\u001b[0m \u001b[32m━━━━━━━━━━━━━━━━━━━━\u001b[0m\u001b[37m\u001b[0m \u001b[1m0s\u001b[0m 10ms/step - accuracy: 0.9159 - loss: 0.2140 - val_accuracy: 0.9250 - val_loss: 0.2646\n",
            "Epoch 65/100\n",
            "\u001b[1m10/10\u001b[0m \u001b[32m━━━━━━━━━━━━━━━━━━━━\u001b[0m\u001b[37m\u001b[0m \u001b[1m0s\u001b[0m 15ms/step - accuracy: 0.9036 - loss: 0.2402 - val_accuracy: 0.8750 - val_loss: 0.2655\n",
            "Epoch 66/100\n",
            "\u001b[1m10/10\u001b[0m \u001b[32m━━━━━━━━━━━━━━━━━━━━\u001b[0m\u001b[37m\u001b[0m \u001b[1m0s\u001b[0m 17ms/step - accuracy: 0.9220 - loss: 0.2361 - val_accuracy: 0.9125 - val_loss: 0.2659\n",
            "Epoch 67/100\n",
            "\u001b[1m10/10\u001b[0m \u001b[32m━━━━━━━━━━━━━━━━━━━━\u001b[0m\u001b[37m\u001b[0m \u001b[1m0s\u001b[0m 16ms/step - accuracy: 0.9135 - loss: 0.2251 - val_accuracy: 0.9125 - val_loss: 0.2650\n",
            "Epoch 68/100\n",
            "\u001b[1m10/10\u001b[0m \u001b[32m━━━━━━━━━━━━━━━━━━━━\u001b[0m\u001b[37m\u001b[0m \u001b[1m0s\u001b[0m 14ms/step - accuracy: 0.8971 - loss: 0.2429 - val_accuracy: 0.8875 - val_loss: 0.2691\n",
            "Epoch 69/100\n",
            "\u001b[1m10/10\u001b[0m \u001b[32m━━━━━━━━━━━━━━━━━━━━\u001b[0m\u001b[37m\u001b[0m \u001b[1m0s\u001b[0m 13ms/step - accuracy: 0.9266 - loss: 0.2225 - val_accuracy: 0.8875 - val_loss: 0.2673\n",
            "Epoch 70/100\n",
            "\u001b[1m10/10\u001b[0m \u001b[32m━━━━━━━━━━━━━━━━━━━━\u001b[0m\u001b[37m\u001b[0m \u001b[1m0s\u001b[0m 17ms/step - accuracy: 0.9053 - loss: 0.2484 - val_accuracy: 0.8875 - val_loss: 0.2679\n",
            "Epoch 71/100\n",
            "\u001b[1m10/10\u001b[0m \u001b[32m━━━━━━━━━━━━━━━━━━━━\u001b[0m\u001b[37m\u001b[0m \u001b[1m0s\u001b[0m 17ms/step - accuracy: 0.8879 - loss: 0.2503 - val_accuracy: 0.9125 - val_loss: 0.2666\n",
            "Epoch 72/100\n",
            "\u001b[1m10/10\u001b[0m \u001b[32m━━━━━━━━━━━━━━━━━━━━\u001b[0m\u001b[37m\u001b[0m \u001b[1m0s\u001b[0m 19ms/step - accuracy: 0.9033 - loss: 0.2428 - val_accuracy: 0.9250 - val_loss: 0.2652\n",
            "Epoch 73/100\n",
            "\u001b[1m10/10\u001b[0m \u001b[32m━━━━━━━━━━━━━━━━━━━━\u001b[0m\u001b[37m\u001b[0m \u001b[1m0s\u001b[0m 18ms/step - accuracy: 0.9241 - loss: 0.2139 - val_accuracy: 0.9250 - val_loss: 0.2649\n",
            "Epoch 74/100\n",
            "\u001b[1m10/10\u001b[0m \u001b[32m━━━━━━━━━━━━━━━━━━━━\u001b[0m\u001b[37m\u001b[0m \u001b[1m0s\u001b[0m 10ms/step - accuracy: 0.9129 - loss: 0.2251 - val_accuracy: 0.9250 - val_loss: 0.2650\n",
            "Epoch 75/100\n",
            "\u001b[1m10/10\u001b[0m \u001b[32m━━━━━━━━━━━━━━━━━━━━\u001b[0m\u001b[37m\u001b[0m \u001b[1m0s\u001b[0m 10ms/step - accuracy: 0.9134 - loss: 0.2534 - val_accuracy: 0.9250 - val_loss: 0.2648\n",
            "Epoch 76/100\n",
            "\u001b[1m10/10\u001b[0m \u001b[32m━━━━━━━━━━━━━━━━━━━━\u001b[0m\u001b[37m\u001b[0m \u001b[1m0s\u001b[0m 9ms/step - accuracy: 0.9211 - loss: 0.2107 - val_accuracy: 0.9375 - val_loss: 0.2637\n",
            "Epoch 77/100\n",
            "\u001b[1m10/10\u001b[0m \u001b[32m━━━━━━━━━━━━━━━━━━━━\u001b[0m\u001b[37m\u001b[0m \u001b[1m0s\u001b[0m 12ms/step - accuracy: 0.9265 - loss: 0.2052 - val_accuracy: 0.9125 - val_loss: 0.2665\n",
            "Epoch 78/100\n",
            "\u001b[1m10/10\u001b[0m \u001b[32m━━━━━━━━━━━━━━━━━━━━\u001b[0m\u001b[37m\u001b[0m \u001b[1m0s\u001b[0m 9ms/step - accuracy: 0.9003 - loss: 0.2532 - val_accuracy: 0.9250 - val_loss: 0.2666\n",
            "Epoch 79/100\n",
            "\u001b[1m10/10\u001b[0m \u001b[32m━━━━━━━━━━━━━━━━━━━━\u001b[0m\u001b[37m\u001b[0m \u001b[1m0s\u001b[0m 10ms/step - accuracy: 0.8995 - loss: 0.2400 - val_accuracy: 0.9250 - val_loss: 0.2636\n",
            "Epoch 80/100\n",
            "\u001b[1m10/10\u001b[0m \u001b[32m━━━━━━━━━━━━━━━━━━━━\u001b[0m\u001b[37m\u001b[0m \u001b[1m0s\u001b[0m 9ms/step - accuracy: 0.9053 - loss: 0.2367 - val_accuracy: 0.9250 - val_loss: 0.2659\n",
            "Epoch 81/100\n",
            "\u001b[1m10/10\u001b[0m \u001b[32m━━━━━━━━━━━━━━━━━━━━\u001b[0m\u001b[37m\u001b[0m \u001b[1m0s\u001b[0m 10ms/step - accuracy: 0.8805 - loss: 0.2866 - val_accuracy: 0.9250 - val_loss: 0.2653\n",
            "Epoch 82/100\n",
            "\u001b[1m10/10\u001b[0m \u001b[32m━━━━━━━━━━━━━━━━━━━━\u001b[0m\u001b[37m\u001b[0m \u001b[1m0s\u001b[0m 10ms/step - accuracy: 0.9127 - loss: 0.2282 - val_accuracy: 0.9250 - val_loss: 0.2653\n",
            "Epoch 83/100\n",
            "\u001b[1m10/10\u001b[0m \u001b[32m━━━━━━━━━━━━━━━━━━━━\u001b[0m\u001b[37m\u001b[0m \u001b[1m0s\u001b[0m 10ms/step - accuracy: 0.9013 - loss: 0.2327 - val_accuracy: 0.9250 - val_loss: 0.2637\n",
            "Epoch 84/100\n",
            "\u001b[1m10/10\u001b[0m \u001b[32m━━━━━━━━━━━━━━━━━━━━\u001b[0m\u001b[37m\u001b[0m \u001b[1m0s\u001b[0m 9ms/step - accuracy: 0.8913 - loss: 0.2467 - val_accuracy: 0.9250 - val_loss: 0.2652\n",
            "Epoch 85/100\n",
            "\u001b[1m10/10\u001b[0m \u001b[32m━━━━━━━━━━━━━━━━━━━━\u001b[0m\u001b[37m\u001b[0m \u001b[1m0s\u001b[0m 10ms/step - accuracy: 0.9053 - loss: 0.2482 - val_accuracy: 0.9125 - val_loss: 0.2669\n",
            "Epoch 86/100\n",
            "\u001b[1m10/10\u001b[0m \u001b[32m━━━━━━━━━━━━━━━━━━━━\u001b[0m\u001b[37m\u001b[0m \u001b[1m0s\u001b[0m 10ms/step - accuracy: 0.8995 - loss: 0.2540 - val_accuracy: 0.9250 - val_loss: 0.2638\n",
            "Epoch 87/100\n",
            "\u001b[1m10/10\u001b[0m \u001b[32m━━━━━━━━━━━━━━━━━━━━\u001b[0m\u001b[37m\u001b[0m \u001b[1m0s\u001b[0m 9ms/step - accuracy: 0.8951 - loss: 0.2457 - val_accuracy: 0.9125 - val_loss: 0.2661\n",
            "Epoch 88/100\n",
            "\u001b[1m10/10\u001b[0m \u001b[32m━━━━━━━━━━━━━━━━━━━━\u001b[0m\u001b[37m\u001b[0m \u001b[1m0s\u001b[0m 9ms/step - accuracy: 0.9087 - loss: 0.2267 - val_accuracy: 0.9250 - val_loss: 0.2628\n",
            "Epoch 89/100\n",
            "\u001b[1m10/10\u001b[0m \u001b[32m━━━━━━━━━━━━━━━━━━━━\u001b[0m\u001b[37m\u001b[0m \u001b[1m0s\u001b[0m 10ms/step - accuracy: 0.8831 - loss: 0.2567 - val_accuracy: 0.9250 - val_loss: 0.2642\n",
            "Epoch 90/100\n",
            "\u001b[1m10/10\u001b[0m \u001b[32m━━━━━━━━━━━━━━━━━━━━\u001b[0m\u001b[37m\u001b[0m \u001b[1m0s\u001b[0m 10ms/step - accuracy: 0.9059 - loss: 0.2287 - val_accuracy: 0.9250 - val_loss: 0.2647\n",
            "Epoch 91/100\n",
            "\u001b[1m10/10\u001b[0m \u001b[32m━━━━━━━━━━━━━━━━━━━━\u001b[0m\u001b[37m\u001b[0m \u001b[1m0s\u001b[0m 9ms/step - accuracy: 0.9000 - loss: 0.2454 - val_accuracy: 0.9250 - val_loss: 0.2631\n",
            "Epoch 92/100\n",
            "\u001b[1m10/10\u001b[0m \u001b[32m━━━━━━━━━━━━━━━━━━━━\u001b[0m\u001b[37m\u001b[0m \u001b[1m0s\u001b[0m 10ms/step - accuracy: 0.9154 - loss: 0.2153 - val_accuracy: 0.9250 - val_loss: 0.2622\n",
            "Epoch 93/100\n",
            "\u001b[1m10/10\u001b[0m \u001b[32m━━━━━━━━━━━━━━━━━━━━\u001b[0m\u001b[37m\u001b[0m \u001b[1m0s\u001b[0m 9ms/step - accuracy: 0.9235 - loss: 0.2050 - val_accuracy: 0.9250 - val_loss: 0.2637\n",
            "Epoch 94/100\n",
            "\u001b[1m10/10\u001b[0m \u001b[32m━━━━━━━━━━━━━━━━━━━━\u001b[0m\u001b[37m\u001b[0m \u001b[1m0s\u001b[0m 9ms/step - accuracy: 0.9179 - loss: 0.2112 - val_accuracy: 0.9250 - val_loss: 0.2644\n",
            "Epoch 95/100\n",
            "\u001b[1m10/10\u001b[0m \u001b[32m━━━━━━━━━━━━━━━━━━━━\u001b[0m\u001b[37m\u001b[0m \u001b[1m0s\u001b[0m 9ms/step - accuracy: 0.9037 - loss: 0.2317 - val_accuracy: 0.9250 - val_loss: 0.2652\n",
            "Epoch 96/100\n",
            "\u001b[1m10/10\u001b[0m \u001b[32m━━━━━━━━━━━━━━━━━━━━\u001b[0m\u001b[37m\u001b[0m \u001b[1m0s\u001b[0m 9ms/step - accuracy: 0.9114 - loss: 0.2163 - val_accuracy: 0.9250 - val_loss: 0.2660\n",
            "Epoch 97/100\n",
            "\u001b[1m10/10\u001b[0m \u001b[32m━━━━━━━━━━━━━━━━━━━━\u001b[0m\u001b[37m\u001b[0m \u001b[1m0s\u001b[0m 10ms/step - accuracy: 0.9083 - loss: 0.2270 - val_accuracy: 0.9250 - val_loss: 0.2645\n",
            "Epoch 98/100\n",
            "\u001b[1m10/10\u001b[0m \u001b[32m━━━━━━━━━━━━━━━━━━━━\u001b[0m\u001b[37m\u001b[0m \u001b[1m0s\u001b[0m 10ms/step - accuracy: 0.8966 - loss: 0.2475 - val_accuracy: 0.9250 - val_loss: 0.2634\n",
            "Epoch 99/100\n",
            "\u001b[1m10/10\u001b[0m \u001b[32m━━━━━━━━━━━━━━━━━━━━\u001b[0m\u001b[37m\u001b[0m \u001b[1m0s\u001b[0m 9ms/step - accuracy: 0.9157 - loss: 0.2142 - val_accuracy: 0.9250 - val_loss: 0.2652\n",
            "Epoch 100/100\n",
            "\u001b[1m10/10\u001b[0m \u001b[32m━━━━━━━━━━━━━━━━━━━━\u001b[0m\u001b[37m\u001b[0m \u001b[1m0s\u001b[0m 14ms/step - accuracy: 0.9017 - loss: 0.2580 - val_accuracy: 0.9250 - val_loss: 0.2632\n"
          ]
        }
      ]
    },
    {
      "cell_type": "code",
      "source": [
        "import matplotlib.pyplot as plt\n",
        "plt.plot(history.history['val_accuracy'])"
      ],
      "metadata": {
        "colab": {
          "base_uri": "https://localhost:8080/",
          "height": 447
        },
        "id": "InsXWldoAVWW",
        "outputId": "2e054261-c311-43d4-8710-d1f10237fb62"
      },
      "execution_count": 28,
      "outputs": [
        {
          "output_type": "execute_result",
          "data": {
            "text/plain": [
              "[<matplotlib.lines.Line2D at 0x7b1f51488a90>]"
            ]
          },
          "metadata": {},
          "execution_count": 28
        },
        {
          "output_type": "display_data",
          "data": {
            "text/plain": [
              "<Figure size 640x480 with 1 Axes>"
            ],
            "image/png": "[encoded data removed]"
          },
          "metadata": {}
        }
      ]
    },
    {
      "cell_type": "code",
      "source": [],
      "metadata": {
        "id": "o_NJJT__Abp1"
      },
      "execution_count": null,
      "outputs": []
    }
  ]
}